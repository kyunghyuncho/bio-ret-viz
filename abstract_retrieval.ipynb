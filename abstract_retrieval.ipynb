{
 "cells": [
  {
   "cell_type": "code",
   "execution_count": null,
   "metadata": {},
   "outputs": [],
   "source": [
    "# !pip install transformers\n",
    "# !pip install pyserini"
   ]
  },
  {
   "cell_type": "code",
   "execution_count": 3,
   "metadata": {},
   "outputs": [],
   "source": [
    "# import os\n",
    "\n",
    "# os.environ['JAVA_HOME'] = '/Library/Java/JavaVirtualMachines/jdk-13.0.2.jdk/Contents/Home'"
   ]
  },
  {
   "cell_type": "code",
   "execution_count": 57,
   "metadata": {},
   "outputs": [],
   "source": [
    "from matplotlib import pyplot as plot"
   ]
  },
  {
   "cell_type": "code",
   "execution_count": 29,
   "metadata": {},
   "outputs": [],
   "source": [
    "import torch"
   ]
  },
  {
   "cell_type": "code",
   "execution_count": 61,
   "metadata": {},
   "outputs": [],
   "source": [
    "import numpy"
   ]
  },
  {
   "cell_type": "code",
   "execution_count": 11,
   "metadata": {},
   "outputs": [
    {
     "data": {
      "application/vnd.jupyter.widget-view+json": {
       "model_id": "97f2f6569ee24a65a927be4f8b220228",
       "version_major": 2,
       "version_minor": 0
      },
      "text/plain": [
       "HBox(children=(IntProgress(value=0, description='Downloading', max=313, style=ProgressStyle(description_width=…"
      ]
     },
     "metadata": {},
     "output_type": "display_data"
    },
    {
     "name": "stdout",
     "output_type": "stream",
     "text": [
      "\n"
     ]
    },
    {
     "data": {
      "application/vnd.jupyter.widget-view+json": {
       "model_id": "26a5606e7c124526b0641c5a6285920a",
       "version_major": 2,
       "version_minor": 0
      },
      "text/plain": [
       "HBox(children=(IntProgress(value=0, description='Downloading', max=227845, style=ProgressStyle(description_wid…"
      ]
     },
     "metadata": {},
     "output_type": "display_data"
    },
    {
     "name": "stdout",
     "output_type": "stream",
     "text": [
      "\n"
     ]
    },
    {
     "data": {
      "application/vnd.jupyter.widget-view+json": {
       "model_id": "0b4d40dbe01b455e8eee791d7060bff5",
       "version_major": 2,
       "version_minor": 0
      },
      "text/plain": [
       "HBox(children=(IntProgress(value=0, description='Downloading', max=442221694, style=ProgressStyle(description_…"
      ]
     },
     "metadata": {},
     "output_type": "display_data"
    },
    {
     "name": "stdout",
     "output_type": "stream",
     "text": [
      "\n"
     ]
    }
   ],
   "source": [
    "from transformers import *\n",
    "\n",
    "tokenizer = AutoTokenizer.from_pretrained('allenai/scibert_scivocab_uncased')\n",
    "model = AutoModel.from_pretrained('allenai/scibert_scivocab_uncased')"
   ]
  },
  {
   "cell_type": "code",
   "execution_count": 7,
   "metadata": {},
   "outputs": [],
   "source": [
    "from pyserini.search import pysearch"
   ]
  },
  {
   "cell_type": "code",
   "execution_count": 8,
   "metadata": {},
   "outputs": [],
   "source": [
    "searcher = pysearch.SimpleSearcher('./lucene-index-covid/')"
   ]
  },
  {
   "cell_type": "code",
   "execution_count": 163,
   "metadata": {},
   "outputs": [],
   "source": [
    "query = 'pneumonia corona viral malaria'"
   ]
  },
  {
   "cell_type": "code",
   "execution_count": 164,
   "metadata": {},
   "outputs": [],
   "source": [
    "hits = searcher.search(query)"
   ]
  },
  {
   "cell_type": "code",
   "execution_count": 165,
   "metadata": {},
   "outputs": [],
   "source": [
    "def relevant_snippets(query_ids, query_state, abstract_ids, abstract_state, \n",
    "                      n_abstract_words = 5, window = 5, prefix='\\t'):\n",
    "    query_state = query_state / (query_state ** 2).sum(-1, keepdims=True)\n",
    "    abstract_state = abstract_state / (abstract_state ** 2).sum(-1, keepdims=True)\n",
    "\n",
    "    query_state_ = query_state.view(1, query_state.size(1), 1, query_state.size(2))\n",
    "    abstract_state_ = abstract_state.view(1, 1, abstract_state.size(1), abstract_state.size(2))\n",
    "    query_abstract_match = (query_state_ * abstract_state_).sum(-1)\n",
    "\n",
    "    qa_match = query_abstract_match.data.numpy()[0]\n",
    "\n",
    "    abstract_match = qa_match.sum(0)\n",
    "    abstract_words_idx = numpy.argsort(abstract_match)[-n_abstract_words:][::-1]\n",
    "\n",
    "    abstract_words = tokenizer.convert_ids_to_tokens(abstract_ids[0])[1:-1]\n",
    "    important_words = [abstract_words[idx] for idx in abstract_words_idx]\n",
    "\n",
    "    query_words = tokenizer.convert_ids_to_tokens(query_ids[0])[1:-1]\n",
    "\n",
    "    for word_idx, word in zip(abstract_words_idx,important_words):\n",
    "        best_qword = numpy.argmax(qa_match[:, word_idx])\n",
    "        surround_text_l = ' '.join(abstract_words[word_idx-window:word_idx])\n",
    "        surround_text_r = ' '.join(abstract_words[word_idx+1:word_idx+window])\n",
    "        surround_text = '... ' + surround_text_l + F' $${abstract_words[word_idx]}$$ ' + surround_text_r + ' ...'\n",
    "        surround_text = surround_text.replace(' ##', '')\n",
    "        print(F'{prefix}{query_words[best_qword]}: {surround_text}')"
   ]
  },
  {
   "cell_type": "code",
   "execution_count": 166,
   "metadata": {},
   "outputs": [],
   "source": [
    "query_ids = torch.tensor([tokenizer.encode(query, add_special_tokens=True)])\n",
    "\n",
    "with torch.no_grad():\n",
    "    query_state = model(query_ids)[0]\n",
    "    query_state = query_state[:, 1:-1, :]"
   ]
  },
  {
   "cell_type": "code",
   "execution_count": 167,
   "metadata": {},
   "outputs": [
    {
     "name": "stdout",
     "output_type": "stream",
     "text": [
      "1 18092 6.232500076293945 Fever in travellers returning from the tropics\n",
      "\tmalaria: ... pose a threat to these patients . $$malaria$$ should be ruled out because of ...\n",
      "\tpneumonia: ... have again cast the spotlight on $$tropical$$ diseases . isolating suspected cases ...\n",
      "\tpneumonia: ... without forgetting other common causes of $$fever$$ familiar to emergency doctors . ...\n",
      "\tpneumonia: ... cases of highly contagious and $$lethal$$ diseases must be a priority ( ...\n",
      "\tpneumonia: ...agic fever , mers - cov $$)$$ . assessing the patient , taking ...\n",
      "2 27511 6.029300212860107 Spontaneous intracranial hemorrhage in a patient with Middle East respiratory syndrome corona virus\n",
      "\tpneumonia: ... from a patient who died from severe $$respiratory$$ illness in june 2012 in jed ...\n",
      "\tpneumonia: ... coagulopathy , nor she received antiplatelet $$##s$$ . we are reporting a rare ...\n",
      "\tpneumonia: ... of the brain did not reveal any $$aneurysm$$ or structural defects . she never ...\n",
      "\tpneumonia: ... damage associated with mers - cov $$infection$$ . ...\n",
      "\tcorona: ...ic acid virus of the genus beta $$corona$$ virus . this virus was first ...\n",
      "3 3565 5.948999881744385 Chapter 128 Approach to the Patient in the Tropics with Pulmonary Disease\n",
      "4 7863 5.890999794006348 Hajj: infectious disease surveillance and control\n",
      "\tpneumonia: ... medicine , gulf co - operation council $$states$$ , uk universities , and public ...\n",
      "\tpneumonia: ... centre for mass gatherings medicine , $$gulf$$ co - operation council states , ...\n",
      "\tpneumonia: ...  $$summary$$ religious festivals attract a ...\n",
      "\tpneumonia: ... collaborating centre for mass gatherings $$medicine$$ , gulf co - operation council ...\n",
      "\tpneumonia: ... pilgrims , and to the $$indigenous$$ population . the gathering of a ...\n",
      "5 17473 5.825900077819824 The role of infections in the emergence of non-communicable diseases (NCDs): Compelling needs for novel strategies in the developing world\n",
      "\tpneumonia: ... need to re - evaluate and expand $$early$$ community and individual preventive and control ...\n",
      "\tpneumonia: ... prevention . infections are proving to be $$conventional$$ , emerging and re - emerging ...\n",
      "\tpneumonia: ... also discusses the implications and challenges of $$these$$ observations for science and medicine . ...\n",
      "\tpneumonia: ... to re - evaluate and expand early $$community$$ and individual preventive and control strategies ...\n",
      "\tpneumonia: ... - evaluate and expand early community and $$individual$$ preventive and control strategies that will ...\n",
      "6 23743 5.772200107574463 Global research trends of World Health Organization’s top eight emerging pathogens\n",
      "\tpneumonia: ... crimean - congo , nip $$##ah$$ , middle eastern respiratory syndrome ( ...\n",
      "\tpneumonia: ... ebola , marburg , lass $$##a$$ , rift valley , crime ...\n",
      "\tmalaria: ... first on crimean - congo $$fever$$ , while the united states of ...\n",
      "\tpneumonia: ... trends and characteristics of publications on these $$emerging$$ pathogens , we carried out this ...\n",
      "\tpneumonia: ... vaccine – related research with ebola $$vaccine$$ being most studied . conclusion : ...\n",
      "7 11683 5.714600086212158 SARS: Just another viral acronym?\n",
      "\tpneumonia: ... with a history of recent travel to $$asia$$ had the virus . therfore ...\n",
      "\tpneumonia: ... and the atypical mycobacteria $$simulate$$ sars on clinical , radiol ...\n",
      "\tpneumonia: ... multi - drug resistant ( mdr ) $$tuberculosis$$ and the atypical mycobacter ...\n",
      "\tpneumonia: ... and experimental evidence have purported that $$a$$ virus causes sars , but ...\n",
      "\tpneumonia: ... have purported that a virus causes $$sar$$s , but such viruses have ...\n",
      "8 40958 5.630199909210205 New insights on the antiviral effects of chloroquine against coronavirus: what to expect for COVID-19?\n",
      "\tpneumonia: ... , emerged in china . despite drastic $$containment$$ measures , the spread of this ...\n",
      "\tpneumonia: ... covid - 19 ) characterised by $$pulmonary$$ infection in humans . the efforts ...\n",
      "\tpneumonia: ... coronavirus ( 2019 - nc $$##ov$$ ) , officially known as ...\n",
      "\tpneumonia: ... ) , emerged in china . despite $$drastic$$ containment measures , the spread of ...\n",
      "\tpneumonia: ... focused on rapid diagnosis and isolation of $$patients$$ as well as the search for ...\n",
      "9 12464 5.454800128936768 The role of procalcitonin as a guide for the diagnosis, prognosis, and decision of antibiotic therapy for lower respiratory tract infections\n",
      "\tpneumonia: ... the long - term , leads to $$diminishing$$ drug resistance . ...\n",
      "\tpneumonia: ... . this reduces side - effects of $$an$$ unnecessary antibiotic use , lowers costs ...\n",
      "\tpneumonia: ... for atypicals , and pcr for $$respiratory$$ viruses , serum c - reactive ...\n",
      "\tpneumonia: ... and blood , serology for atypical $$##s$$ , and pcr for respiratory viruses ...\n",
      "\tpneumonia: ... blood chemistry , bacteriological culture for $$sputum$$ and blood , serology for ...\n",
      "10 16530 5.42609977722168 Avian influenza – A review for doctors in travel medicine\n",
      "\tviral: ... of confirmed patients is tiny compared to $$seasonal$$ and the recently emerged h1 ...\n",
      "\tpneumonia: ... . although the current number of confirmed $$patients$$ is tiny compared to seasonal and ...\n",
      "\tpneumonia: ... world . although the current number of $$confirmed$$ patients is tiny compared to seasonal ...\n",
      "\tpneumonia: ... confirmed patients is tiny compared to seasonal $$and$$ the recently emerged h1n ...\n",
      "\tcorona: ... recently emerged h1n1 ‘ $$swine$$ ’ influenza , h5n ...\n"
     ]
    }
   ],
   "source": [
    "n_documents = 10\n",
    "\n",
    "for ii in range(0, n_documents):\n",
    "    print(f'{ii+1} {hits[ii].docid} {hits[ii].score} {searcher.doc(hits[ii].ldocid).object.getField(\"title\").stringValue()}')\n",
    "    \n",
    "    doc = searcher.doc(hits[ii].ldocid).object\n",
    "    content = hits[0].content # raw content\n",
    "\n",
    "    abstract_ids = torch.tensor([tokenizer.encode(doc.getField('abstract').stringValue(), add_special_tokens=True)])\n",
    "    abstract_ids = abstract_ids[0,:512].unsqueeze(0)\n",
    "    with torch.no_grad():\n",
    "        abstract_state = model(abstract_ids)[0]\n",
    "        abstract_state = abstract_state[:, 1:-1, :]\n",
    "    \n",
    "    relevant_snippets(query_ids, query_state, abstract_ids, abstract_state, window=7)"
   ]
  },
  {
   "cell_type": "code",
   "execution_count": null,
   "metadata": {},
   "outputs": [],
   "source": []
  }
 ],
 "metadata": {
  "kernelspec": {
   "display_name": "Python 3",
   "language": "python",
   "name": "python3"
  },
  "language_info": {
   "codemirror_mode": {
    "name": "ipython",
    "version": 3
   },
   "file_extension": ".py",
   "mimetype": "text/x-python",
   "name": "python",
   "nbconvert_exporter": "python",
   "pygments_lexer": "ipython3",
   "version": "3.7.4"
  }
 },
 "nbformat": 4,
 "nbformat_minor": 4
}
