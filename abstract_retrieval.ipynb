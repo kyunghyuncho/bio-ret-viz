{
 "cells": [
  {
   "cell_type": "code",
   "execution_count": null,
   "metadata": {},
   "outputs": [],
   "source": [
    "# !pip install transformers\n",
    "# !pip install pyserini"
   ]
  },
  {
   "cell_type": "code",
   "execution_count": 3,
   "metadata": {},
   "outputs": [],
   "source": [
    "# import os\n",
    "\n",
    "# os.environ['JAVA_HOME'] = '/Library/Java/JavaVirtualMachines/jdk-13.0.2.jdk/Contents/Home'"
   ]
  },
  {
   "cell_type": "code",
   "execution_count": 57,
   "metadata": {},
   "outputs": [],
   "source": [
    "from matplotlib import pyplot as plot"
   ]
  },
  {
   "cell_type": "code",
   "execution_count": 29,
   "metadata": {},
   "outputs": [],
   "source": [
    "import torch"
   ]
  },
  {
   "cell_type": "code",
   "execution_count": 61,
   "metadata": {},
   "outputs": [],
   "source": [
    "import numpy"
   ]
  },
  {
   "cell_type": "code",
   "execution_count": 11,
   "metadata": {},
   "outputs": [
    {
     "data": {
      "application/vnd.jupyter.widget-view+json": {
       "model_id": "97f2f6569ee24a65a927be4f8b220228",
       "version_major": 2,
       "version_minor": 0
      },
      "text/plain": [
       "HBox(children=(IntProgress(value=0, description='Downloading', max=313, style=ProgressStyle(description_width=…"
      ]
     },
     "metadata": {},
     "output_type": "display_data"
    },
    {
     "name": "stdout",
     "output_type": "stream",
     "text": [
      "\n"
     ]
    },
    {
     "data": {
      "application/vnd.jupyter.widget-view+json": {
       "model_id": "26a5606e7c124526b0641c5a6285920a",
       "version_major": 2,
       "version_minor": 0
      },
      "text/plain": [
       "HBox(children=(IntProgress(value=0, description='Downloading', max=227845, style=ProgressStyle(description_wid…"
      ]
     },
     "metadata": {},
     "output_type": "display_data"
    },
    {
     "name": "stdout",
     "output_type": "stream",
     "text": [
      "\n"
     ]
    },
    {
     "data": {
      "application/vnd.jupyter.widget-view+json": {
       "model_id": "0b4d40dbe01b455e8eee791d7060bff5",
       "version_major": 2,
       "version_minor": 0
      },
      "text/plain": [
       "HBox(children=(IntProgress(value=0, description='Downloading', max=442221694, style=ProgressStyle(description_…"
      ]
     },
     "metadata": {},
     "output_type": "display_data"
    },
    {
     "name": "stdout",
     "output_type": "stream",
     "text": [
      "\n"
     ]
    }
   ],
   "source": [
    "from transformers import *\n",
    "\n",
    "tokenizer = AutoTokenizer.from_pretrained('allenai/scibert_scivocab_uncased')\n",
    "model = AutoModel.from_pretrained('allenai/scibert_scivocab_uncased')"
   ]
  },
  {
   "cell_type": "code",
   "execution_count": 7,
   "metadata": {},
   "outputs": [],
   "source": [
    "from pyserini.search import pysearch"
   ]
  },
  {
   "cell_type": "code",
   "execution_count": 8,
   "metadata": {},
   "outputs": [],
   "source": [
    "searcher = pysearch.SimpleSearcher('./lucene-index-covid/')"
   ]
  },
  {
   "cell_type": "code",
   "execution_count": 145,
   "metadata": {},
   "outputs": [],
   "source": [
    "query = 'pneumonia coronavirus viral'"
   ]
  },
  {
   "cell_type": "code",
   "execution_count": 146,
   "metadata": {},
   "outputs": [],
   "source": [
    "hits = searcher.search(query)"
   ]
  },
  {
   "cell_type": "code",
   "execution_count": 147,
   "metadata": {},
   "outputs": [],
   "source": [
    "def relevant_snippets(query_ids, query_state, abstract_ids, abstract_state, \n",
    "                      n_abstract_words = 5, window = 5, prefix='\\t'):\n",
    "    query_state = query_state / (query_state ** 2).sum(-1, keepdims=True)\n",
    "    abstract_state = abstract_state / (abstract_state ** 2).sum(-1, keepdims=True)\n",
    "\n",
    "    query_state_ = query_state.view(1, query_state.size(1), 1, query_state.size(2))\n",
    "    abstract_state_ = abstract_state.view(1, 1, abstract_state.size(1), abstract_state.size(2))\n",
    "    query_abstract_match = (query_state_ * abstract_state_).sum(-1)\n",
    "\n",
    "    qa_match = query_abstract_match.data.numpy()[0]\n",
    "\n",
    "    abstract_match = qa_match.sum(0)\n",
    "    abstract_words_idx = numpy.argsort(abstract_match)[-n_abstract_words:][::-1]\n",
    "\n",
    "    abstract_words = tokenizer.convert_ids_to_tokens(abstract_ids[0])[1:-1]\n",
    "    important_words = [abstract_words[idx] for idx in abstract_words_idx]\n",
    "\n",
    "    query_words = tokenizer.convert_ids_to_tokens(query_ids[0])[1:-1]\n",
    "\n",
    "    for word_idx, word in zip(abstract_words_idx,important_words):\n",
    "        best_qword = numpy.argmax(qa_match[:, word_idx])\n",
    "        surround_text_l = ' '.join(abstract_words[word_idx-window:word_idx])\n",
    "        surround_text_r = ' '.join(abstract_words[word_idx+1:word_idx+window])\n",
    "        surround_text = '... ' + surround_text_l + F' $${abstract_words[word_idx]}$$ ' + surround_text_r + ' ...'\n",
    "        surround_text = surround_text.replace(' ##', '')\n",
    "        print(F'{prefix}{query_words[best_qword]}: {surround_text}')"
   ]
  },
  {
   "cell_type": "code",
   "execution_count": 148,
   "metadata": {},
   "outputs": [],
   "source": [
    "query_ids = torch.tensor([tokenizer.encode(query, add_special_tokens=True)])\n",
    "\n",
    "with torch.no_grad():\n",
    "    query_state = model(query_ids)[0]\n",
    "    query_state = query_state[:, 1:-1, :]"
   ]
  },
  {
   "cell_type": "code",
   "execution_count": 156,
   "metadata": {},
   "outputs": [
    {
     "name": "stdout",
     "output_type": "stream",
     "text": [
      "10 43946 2.6057000160217285 A familial cluster of pneumonia associated with the 2019 novel coronavirus indicating person-to-person transmission: a study of a family cluster\n",
      "\tviral: ... secondary to respiratory viral infections other than $$influenza$$ remain unknown . the purpose of ...\n",
      "\tpneumonia: ... common in these patients . in contrast $$,$$ coronavirus , parainflu ...\n",
      "\tviral: ...eumovirus infections was caused by $$similar$$ bacteria , and the findings indicated ...\n",
      "\tcorona: ... in these patients . in contrast , $$corona$$virus , parainfluenza ...\n",
      "\tcorona: ...1 ) : pneumonia in patients with $$influenza$$ virus ( type a / b ...\n",
      "10 43946 2.6057000160217285 A familial cluster of pneumonia associated with the 2019 novel coronavirus indicating person-to-person transmission: a study of a family cluster\n",
      "\tpneumonia: ... , coronavirus 229e and oc $$##43$$ , chlamydia pneumoniae and myco ...\n",
      "\tviral: ... adenovirus , coronavirus 229e and $$oc$$43 , chlamydia pneumoniae and ...\n",
      "\tviral: ... 6 years ) . according to the $$virus$$ , a viral isolation technique , ...\n",
      "\tviral: ... pcr assays may be necessary to diagnose $$respiratory$$ infections in asthma . ...\n",
      "\tpneumonia: ... . 6 years ) . according to $$the$$ virus , a viral isolation technique ...\n",
      "10 43946 2.6057000160217285 A familial cluster of pneumonia associated with the 2019 novel coronavirus indicating person-to-person transmission: a study of a family cluster\n",
      "10 43946 2.6057000160217285 A familial cluster of pneumonia associated with the 2019 novel coronavirus indicating person-to-person transmission: a study of a family cluster\n",
      "10 43946 2.6057000160217285 A familial cluster of pneumonia associated with the 2019 novel coronavirus indicating person-to-person transmission: a study of a family cluster\n",
      "\tviral: ... % ) of 515 specimens . $$dual$$ and multiple infectious agents were detected ...\n",
      "\tviral: ... 88 . 0 % ) , and $$spring$$ ( 93 . 8 % ) ...\n",
      "\tviral: ... the patient ’ s demographic data and $$season$$ were analyzed . results : viral ...\n",
      "\tviral: ... clues for physicians informing decisions regarding $$preventive$$ strategies and medication in tunisi ...\n",
      "\tviral: ... . 4 % ) , coronavirus $$group$$ ( 18 . 5 % ) ...\n",
      "10 43946 2.6057000160217285 A familial cluster of pneumonia associated with the 2019 novel coronavirus indicating person-to-person transmission: a study of a family cluster\n",
      "\tpneumonia: ... viral load could provide evidence of causality $$of$$ pneumonia , we compared viral load ...\n",
      "\tviral: ... if viral load could provide evidence of $$causality$$ of pneumonia , we compared viral ...\n",
      "\tpneumonia: ... . the etiologic inference of identifying $$a$$ pathogen in the upper respiratory tract ...\n",
      "\tpneumonia: ... load could provide evidence of causality of $$pneumonia$$ , we compared viral load in ...\n",
      "\tpneumonia: ... lack of a gold standard for viral $$pneumonia$$ . ...\n",
      "10 43946 2.6057000160217285 A familial cluster of pneumonia associated with the 2019 novel coronavirus indicating person-to-person transmission: a study of a family cluster\n",
      "\tpneumonia: ... chronic cardiopulmonary diseases that predispose to $$pneumonia$$ when viral infection occurs . influenza ...\n",
      "\tpneumonia: ... defined . the clinical syndromes associated with $$respiratory$$ viruses frequently are indistinguishable from ...\n",
      "\tviral: ... diagnosis . antiviral therapy is available for $$influenza$$ a and b ; specific viral ...\n",
      "\t##virus: ... to pneumonia when viral infection occurs . $$influenza$$ virus remains the primary viral pathogen ...\n",
      "\tviral: ... with functional and immunologic decline $$and$$ chronic cardiopulmonary diseases that predispose ...\n",
      "10 43946 2.6057000160217285 A familial cluster of pneumonia associated with the 2019 novel coronavirus indicating person-to-person transmission: a study of a family cluster\n",
      "\tpneumonia: ... disaster along the lines of the spanish $$flu$$ , earlier recognition and earlier implementation ...\n",
      "\tpneumonia: ...ne measures are necessary and have prevented $$a$$ historical disaster along the lines of ...\n",
      "\tviral: ... carriers based on the sequence homology of $$cov$$ isolated from these animals and the ...\n",
      "\tpneumonia: ...  $$the$$ 2019 - ncov is ...\n",
      "\tpneumonia: ... a historical disaster along the lines of $$the$$ spanish flu , earlier recognition and ...\n",
      "10 43946 2.6057000160217285 A familial cluster of pneumonia associated with the 2019 novel coronavirus indicating person-to-person transmission: a study of a family cluster\n",
      "\tpneumonia: ... of the samples were negative . using $$biomass$$ for cooking , daycare attendance ...\n",
      "\tviral: ... samples were negative . using biomass for $$cooking$$ , daycare attendance , absence ...\n",
      "\tviral: ... 11 hospitals in mexico were included . $$nasal$$ washes were collected , placed in ...\n",
      "\tpneumonia: ... were negative . using biomass for cooking $$,$$ daycare attendance , absence of ...\n",
      "\tpneumonia: ... the samples were negative . using biomass $$for$$ cooking , daycare attendance , ...\n",
      "10 43946 2.6057000160217285 A familial cluster of pneumonia associated with the 2019 novel coronavirus indicating person-to-person transmission: a study of a family cluster\n",
      "\tviral: ... patients were geographically linked with a local $$wet$$ market as a potential source . ...\n",
      "\tviral: ... these six patients were negative for known $$respiratory$$ microbes by point - of - ...\n",
      "\tviral: ...virus , which is closest to the $$bat$$ severe acute respiatory syndrome ...\n",
      "\tpneumonia: ... six patients were negative for known respiratory $$microbes$$ by point - of - care ...\n",
      "\tviral: ... in a family cluster who presented with $$unexplained$$ pneumonia after returning to shenzh ...\n"
     ]
    }
   ],
   "source": [
    "n_documents = 10\n",
    "\n",
    "for ii in range(0, n_documents):\n",
    "    print(f'{i+1} {hits[i].docid} {hits[i].score} {searcher.doc(hits[i].ldocid).object.getField(\"title\").stringValue()}')\n",
    "    \n",
    "    doc = searcher.doc(hits[ii].ldocid).object\n",
    "    content = hits[0].content # raw content\n",
    "\n",
    "    abstract_ids = torch.tensor([tokenizer.encode(doc.getField('abstract').stringValue(), add_special_tokens=True)])\n",
    "    abstract_ids = abstract_ids[0,:512].unsqueeze(0)\n",
    "    with torch.no_grad():\n",
    "        abstract_state = model(abstract_ids)[0]\n",
    "        abstract_state = abstract_state[:, 1:-1, :]\n",
    "    \n",
    "    relevant_snippets(query_ids, query_state, abstract_ids, abstract_state, window=7)"
   ]
  }
 ],
 "metadata": {
  "kernelspec": {
   "display_name": "Python 3",
   "language": "python",
   "name": "python3"
  },
  "language_info": {
   "codemirror_mode": {
    "name": "ipython",
    "version": 3
   },
   "file_extension": ".py",
   "mimetype": "text/x-python",
   "name": "python",
   "nbconvert_exporter": "python",
   "pygments_lexer": "ipython3",
   "version": "3.7.4"
  }
 },
 "nbformat": 4,
 "nbformat_minor": 4
}
