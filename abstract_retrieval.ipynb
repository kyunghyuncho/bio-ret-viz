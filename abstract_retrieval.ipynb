{
 "cells": [
  {
   "cell_type": "code",
   "execution_count": null,
   "metadata": {},
   "outputs": [],
   "source": [
    "# !pip install transformers\n",
    "# !pip install pyserini"
   ]
  },
  {
   "cell_type": "code",
   "execution_count": 3,
   "metadata": {},
   "outputs": [],
   "source": [
    "# import os\n",
    "\n",
    "# os.environ['JAVA_HOME'] = '/Library/Java/JavaVirtualMachines/jdk-13.0.2.jdk/Contents/Home'"
   ]
  },
  {
   "cell_type": "code",
   "execution_count": 57,
   "metadata": {},
   "outputs": [],
   "source": [
    "from matplotlib import pyplot as plot"
   ]
  },
  {
   "cell_type": "code",
   "execution_count": 29,
   "metadata": {},
   "outputs": [],
   "source": [
    "import torch"
   ]
  },
  {
   "cell_type": "code",
   "execution_count": 61,
   "metadata": {},
   "outputs": [],
   "source": [
    "import numpy"
   ]
  },
  {
   "cell_type": "code",
   "execution_count": 203,
   "metadata": {},
   "outputs": [],
   "source": [
    "from transformers import *\n",
    "\n",
    "tokenizer = AutoTokenizer.from_pretrained('allenai/scibert_scivocab_uncased')\n",
    "model = AutoModel.from_pretrained('allenai/scibert_scivocab_uncased')\n",
    "\n",
    "# tokenizer = AutoTokenizer.from_pretrained('roberta-base')\n",
    "# model = AutoModel.from_pretrained('roberta-base')"
   ]
  },
  {
   "cell_type": "code",
   "execution_count": 187,
   "metadata": {},
   "outputs": [],
   "source": [
    "from pyserini.search import pysearch"
   ]
  },
  {
   "cell_type": "code",
   "execution_count": 188,
   "metadata": {},
   "outputs": [],
   "source": [
    "searcher = pysearch.SimpleSearcher('./lucene-index-covid/')"
   ]
  },
  {
   "cell_type": "code",
   "execution_count": 204,
   "metadata": {},
   "outputs": [],
   "source": [
    "query = 'cure for coronavirus which is similar to mers'"
   ]
  },
  {
   "cell_type": "code",
   "execution_count": 205,
   "metadata": {},
   "outputs": [],
   "source": [
    "hits = searcher.search(query)"
   ]
  },
  {
   "cell_type": "code",
   "execution_count": 206,
   "metadata": {},
   "outputs": [],
   "source": [
    "def relevant_snippets(query_ids, query_state, abstract_ids, abstract_state, \n",
    "                      n_abstract_words = 5, window = 5, prefix='\\t'):\n",
    "    query_state = query_state / torch.sqrt((query_state ** 2).sum(-1, keepdims=True))\n",
    "    abstract_state = abstract_state / torch.sqrt((abstract_state ** 2).sum(-1, keepdims=True))\n",
    "\n",
    "    query_state_ = query_state.view(1, query_state.size(1), 1, query_state.size(2))\n",
    "    abstract_state_ = abstract_state.view(1, 1, abstract_state.size(1), abstract_state.size(2))\n",
    "    query_abstract_match = (query_state_ * abstract_state_).sum(-1)\n",
    "\n",
    "    qa_match = query_abstract_match.data.numpy()[0]\n",
    "\n",
    "    abstract_match = qa_match.max(0)\n",
    "    abstract_words_idx = numpy.argsort(abstract_match)[-n_abstract_words:][::-1]\n",
    "\n",
    "    abstract_words = tokenizer.convert_ids_to_tokens(abstract_ids[0])[1:-1]\n",
    "    important_words = [abstract_words[idx] for idx in abstract_words_idx]\n",
    "\n",
    "    query_words = tokenizer.convert_ids_to_tokens(query_ids[0])[1:-1]\n",
    "\n",
    "    for word_idx, word in zip(abstract_words_idx,important_words):\n",
    "        best_qword = numpy.argmax(qa_match[:, word_idx])\n",
    "        surround_text_l = ' '.join(abstract_words[word_idx-window:word_idx])\n",
    "        surround_text_r = ' '.join(abstract_words[word_idx+1:word_idx+window])\n",
    "        surround_text = '... ' + surround_text_l + F' $${abstract_words[word_idx]}$$ ' + surround_text_r + ' ...'\n",
    "        if 'Ġ' in surround_text:\n",
    "            surround_text = ''.join(surround_text.split(' ')).replace('Ġ', ' ')\n",
    "        else:\n",
    "            surround_text = surround_text.replace(' ##', '')\n",
    "        print(F'{prefix}{query_words[best_qword]}: {surround_text}')"
   ]
  },
  {
   "cell_type": "code",
   "execution_count": 207,
   "metadata": {},
   "outputs": [],
   "source": [
    "query_ids = torch.tensor([tokenizer.encode(query, add_special_tokens=True)])\n",
    "\n",
    "with torch.no_grad():\n",
    "    query_state = model(query_ids)[0]\n",
    "    query_state = query_state[:, 1:-1, :]"
   ]
  },
  {
   "cell_type": "code",
   "execution_count": 208,
   "metadata": {},
   "outputs": [
    {
     "name": "stdout",
     "output_type": "stream",
     "text": [
      "1 40425 6.499300003051758 Clinical Characteristics of Two Human to Human Transmitted Coronaviruses: Corona Virus Disease 2019 versus Middle East Respiratory Syndrome Coronavirus.\n",
      "\tcorona: ... 2012 . currently , a novel human $$corona$$virus has caused a major disease ...\n",
      "\tfor: ... main complication . the most effective drug $$for$$ mers - cov is rib ...\n",
      "\tmer: ... of the middle east respiratory syndrome ( $$mer$$s ) worldwide in 2012 . ...\n",
      "\tcorona: ... the similarities and differences between the two $$corona$$virus diseases remain to be unknown ...\n",
      "\tmer: ... complication . the most effective drug for $$mer$$s - cov is ribavir ...\n",
      "2 40189 6.06279993057251 Epidemic Situation of Novel Coronavirus Pneumonia in China mainland\n",
      "\tcorona: ... objective ] analyze the occurrence of novel $$corona$$virus pneumonia ( ncp ) ...\n",
      "\t##virus: ... ] analyze the occurrence of novel corona $$##virus$$ pneumonia ( ncp ) in ...\n",
      "\t##virus: ... analyze the occurrence of novel coronavirus $$pneumonia$$ ( ncp ) in china ...\n",
      "\tcorona: ... [ objective ] analyze the occurrence of $$novel$$ coronavirus pneumonia ( ncp ...\n",
      "\tcure: ... ncp gradually declined , and the $$extinction$$ index of ncp rose little ...\n",
      "3 9179 5.9934000968933105 2017 international meeting of the Global Virus Network\n",
      "\t##virus: ... to strengthen research and responses to emerging $$viral$$ causes of human disease and to ...\n",
      "\t##virus: ... human disease and to prepare against new $$viral$$ pandemics . there are now ...\n",
      "\t##virus: ... researchers in several important areas of medical $$virology$$ , including the recent zika ...\n",
      "\t##virus: ...  $$virus$$ network ( gvn ) was ...\n",
      "\tfor: ...n researchers in several important areas of $$medical$$ virology , including the recent zi ...\n",
      "4 24481 5.962399959564209 How Do the First Days Count? A Case Study of Qatar Experience in Emergency Risk Communication during the MERS-CoV Outbreak\n",
      "\tmer: ... happened during the response to the 2013 $$mer$$s outbreak in qatar . ...\n",
      "\tmer: ... to the outbreak management . methods : $$mer$$s - cov related events were ...\n",
      "\tmer: ... followed during the early days of the $$mer$$s - cov epidemic , which ...\n",
      "\t##s: ... during the response to the 2013 mer $$##s$$ outbreak in qatar . it ...\n",
      "\tto: ... be developed in the middle east region $$to$$ document what happened during the response ...\n",
      "5 40176 5.924099922180176 Utilize State Transition Matrix Model to Predict the Novel Corona Virus Infection Peak and Patient Distribution\n",
      "\tcorona: ... pneumonia caused by the 2019 novel $$corona$$virus ( 2019 - nc ...\n",
      "\t##virus: ... caused by the 2019 novel corona $$##virus$$ ( 2019 - ncov ...\n",
      "\t##virus: ... : since december 2019 , a $$pneumonia$$ caused by the 2019 novel ...\n",
      "\t##virus: ... coronavirus ( 2019 - nc $$##ov$$ ) has broken out in wu ...\n",
      "\tto: ... methods : we used data resource according $$to$$ cases reported by the national health ...\n",
      "6 40270 5.916399955749512 Spread and control of COVID-19 in China and their associations with population movement, public health emergency measures, and medical resources\n",
      "\tfor: ... globally . while the mass population movement $$for$$ chinese new year has significantly influenced ...\n",
      "\tto: ... in its early phase was attributed primarily $$to$$ population movement from hubei , ...\n",
      "\tto: ... little direct evidence exists about the relevance $$to$$ epidemic and its control of population ...\n",
      "\tcure: ... < 0 . 01 ) and lower $$cure$$ rates ( r = 0 . ...\n",
      "\tfor: ... control ) were associated with reduced infections $$nationwide$$ . moreover , the number of ...\n",
      "7 18027 5.909800052642822 Combination of IMOD™ and Arbidol to increase their immunomodulatory effects as a novel medicine to prevent and cure influenza and some other infectious diseases\n",
      "\tcorona: ... and , very recently , the novel $$corona$$virus that has caused many life ...\n",
      "\t##virus: ... , very recently , the novel corona $$##virus$$ that has caused many life - ...\n",
      "\tis: ... viral diseases such as influenza , which $$are$$ easily transferable from person to ...\n",
      "\twhich: ... very recently , the novel coronavirus $$that$$ has caused many life - threatening ...\n",
      "\tfor: ...  $$abstract$$ viral diseases such as influenza , ...\n",
      "8 17481 5.765900135040283 Is the Saudi public aware of Middle East respiratory syndrome?\n",
      "\tcorona: ... the spread of middle east respiratory syndrome $$corona$$virus ( mers - cov ...\n",
      "\tmer: ... about the disease . public awareness of $$mer$$s is generally sufficient . however ...\n",
      "\tmer: ... we aimed to measure public awareness of $$mer$$s in saudi arabia . a ...\n",
      "\tmer: ... % of the participants were aware of $$mer$$s . in addition , 72 ...\n",
      "\t##virus: ... spread of middle east respiratory syndrome corona $$##virus$$ ( mers - cov ) ...\n",
      "9 9127 5.714200019836426 Meeting report: 28th International Conference on Antiviral Research in Rome, Italy\n",
      "\tfor: ... was the preparation of prodrugs $$for$$ nucleotide triphosphates as ...\n",
      "\t##virus: ... talks on rna viruses ( nor $$##ovirus$$ , rabies , dengue , ...\n",
      "\tto: ... award recipient , described the research leading $$to$$ sofosbuvir . denn ...\n",
      "\tfor: ... entry inhibitors led to a new therapy $$for$$ cancer patients . erica ol ...\n",
      "\t##virus: ... , hev , hcv , and $$rsv$$ ) . a highlight of the ...\n",
      "10 42475 5.696400165557861 Epidemiological characteristics and transmission model of Corona Virus Disease 2019 in China\n"
     ]
    }
   ],
   "source": [
    "n_documents = 10\n",
    "\n",
    "for ii in range(0, n_documents):\n",
    "    print(F'{ii+1} {hits[ii].docid} {hits[ii].score} {searcher.doc(hits[ii].ldocid).object.getField(\"title\").stringValue()}')\n",
    "    \n",
    "    doc = searcher.doc(hits[ii].ldocid).object\n",
    "    content = hits[0].content # raw content\n",
    "\n",
    "    abstract_ids = torch.tensor([tokenizer.encode(doc.getField('abstract').stringValue(), add_special_tokens=True)])\n",
    "    abstract_ids = abstract_ids[0,:512].unsqueeze(0)\n",
    "    with torch.no_grad():\n",
    "        abstract_state = model(abstract_ids)[0]\n",
    "        abstract_state = abstract_state[:, 1:-1, :]\n",
    "    \n",
    "    relevant_snippets(query_ids, query_state, abstract_ids, abstract_state, window=7)"
   ]
  },
  {
   "cell_type": "code",
   "execution_count": null,
   "metadata": {},
   "outputs": [],
   "source": []
  }
 ],
 "metadata": {
  "kernelspec": {
   "display_name": "Python 3",
   "language": "python",
   "name": "python3"
  },
  "language_info": {
   "codemirror_mode": {
    "name": "ipython",
    "version": 3
   },
   "file_extension": ".py",
   "mimetype": "text/x-python",
   "name": "python",
   "nbconvert_exporter": "python",
   "pygments_lexer": "ipython3",
   "version": "3.7.4"
  }
 },
 "nbformat": 4,
 "nbformat_minor": 4
}
