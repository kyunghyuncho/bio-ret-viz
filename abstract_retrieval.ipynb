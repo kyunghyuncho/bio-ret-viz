{
 "cells": [
  {
   "cell_type": "code",
   "execution_count": null,
   "metadata": {},
   "outputs": [],
   "source": [
    "# !pip install transformers\n",
    "# !pip install pyserini"
   ]
  },
  {
   "cell_type": "code",
   "execution_count": 3,
   "metadata": {},
   "outputs": [],
   "source": [
    "# import os\n",
    "\n",
    "# os.environ['JAVA_HOME'] = '/Library/Java/JavaVirtualMachines/jdk-13.0.2.jdk/Contents/Home'"
   ]
  },
  {
   "cell_type": "code",
   "execution_count": 57,
   "metadata": {},
   "outputs": [],
   "source": [
    "from matplotlib import pyplot as plot"
   ]
  },
  {
   "cell_type": "code",
   "execution_count": 29,
   "metadata": {},
   "outputs": [],
   "source": [
    "import torch"
   ]
  },
  {
   "cell_type": "code",
   "execution_count": 61,
   "metadata": {},
   "outputs": [],
   "source": [
    "import numpy"
   ]
  },
  {
   "cell_type": "code",
   "execution_count": 11,
   "metadata": {},
   "outputs": [
    {
     "data": {
      "application/vnd.jupyter.widget-view+json": {
       "model_id": "97f2f6569ee24a65a927be4f8b220228",
       "version_major": 2,
       "version_minor": 0
      },
      "text/plain": [
       "HBox(children=(IntProgress(value=0, description='Downloading', max=313, style=ProgressStyle(description_width=…"
      ]
     },
     "metadata": {},
     "output_type": "display_data"
    },
    {
     "name": "stdout",
     "output_type": "stream",
     "text": [
      "\n"
     ]
    },
    {
     "data": {
      "application/vnd.jupyter.widget-view+json": {
       "model_id": "26a5606e7c124526b0641c5a6285920a",
       "version_major": 2,
       "version_minor": 0
      },
      "text/plain": [
       "HBox(children=(IntProgress(value=0, description='Downloading', max=227845, style=ProgressStyle(description_wid…"
      ]
     },
     "metadata": {},
     "output_type": "display_data"
    },
    {
     "name": "stdout",
     "output_type": "stream",
     "text": [
      "\n"
     ]
    },
    {
     "data": {
      "application/vnd.jupyter.widget-view+json": {
       "model_id": "0b4d40dbe01b455e8eee791d7060bff5",
       "version_major": 2,
       "version_minor": 0
      },
      "text/plain": [
       "HBox(children=(IntProgress(value=0, description='Downloading', max=442221694, style=ProgressStyle(description_…"
      ]
     },
     "metadata": {},
     "output_type": "display_data"
    },
    {
     "name": "stdout",
     "output_type": "stream",
     "text": [
      "\n"
     ]
    }
   ],
   "source": [
    "from transformers import *\n",
    "\n",
    "tokenizer = AutoTokenizer.from_pretrained('allenai/scibert_scivocab_uncased')\n",
    "model = AutoModel.from_pretrained('allenai/scibert_scivocab_uncased')"
   ]
  },
  {
   "cell_type": "code",
   "execution_count": 7,
   "metadata": {},
   "outputs": [],
   "source": [
    "from pyserini.search import pysearch"
   ]
  },
  {
   "cell_type": "code",
   "execution_count": 8,
   "metadata": {},
   "outputs": [],
   "source": [
    "searcher = pysearch.SimpleSearcher('./lucene-index-covid/')"
   ]
  },
  {
   "cell_type": "code",
   "execution_count": 173,
   "metadata": {},
   "outputs": [],
   "source": [
    "query = 'cure for cooroonavirus which is similar to mers'"
   ]
  },
  {
   "cell_type": "code",
   "execution_count": 174,
   "metadata": {},
   "outputs": [],
   "source": [
    "hits = searcher.search(query)"
   ]
  },
  {
   "cell_type": "code",
   "execution_count": 175,
   "metadata": {},
   "outputs": [],
   "source": [
    "def relevant_snippets(query_ids, query_state, abstract_ids, abstract_state, \n",
    "                      n_abstract_words = 5, window = 5, prefix='\\t'):\n",
    "    query_state = query_state / torch.sqrt((query_state ** 2).sum(-1, keepdims=True))\n",
    "    abstract_state = abstract_state / torch.sqrt((abstract_state ** 2).sum(-1, keepdims=True))\n",
    "\n",
    "    query_state_ = query_state.view(1, query_state.size(1), 1, query_state.size(2))\n",
    "    abstract_state_ = abstract_state.view(1, 1, abstract_state.size(1), abstract_state.size(2))\n",
    "    query_abstract_match = (query_state_ * abstract_state_).sum(-1)\n",
    "\n",
    "    qa_match = query_abstract_match.data.numpy()[0]\n",
    "\n",
    "    abstract_match = qa_match.sum(0)\n",
    "    abstract_words_idx = numpy.argsort(abstract_match)[-n_abstract_words:][::-1]\n",
    "\n",
    "    abstract_words = tokenizer.convert_ids_to_tokens(abstract_ids[0])[1:-1]\n",
    "    important_words = [abstract_words[idx] for idx in abstract_words_idx]\n",
    "\n",
    "    query_words = tokenizer.convert_ids_to_tokens(query_ids[0])[1:-1]\n",
    "\n",
    "    for word_idx, word in zip(abstract_words_idx,important_words):\n",
    "        best_qword = numpy.argmax(qa_match[:, word_idx])\n",
    "        surround_text_l = ' '.join(abstract_words[word_idx-window:word_idx])\n",
    "        surround_text_r = ' '.join(abstract_words[word_idx+1:word_idx+window])\n",
    "        surround_text = '... ' + surround_text_l + F' $${abstract_words[word_idx]}$$ ' + surround_text_r + ' ...'\n",
    "        surround_text = surround_text.replace(' ##', '')\n",
    "        print(F'{prefix}{query_words[best_qword]}: {surround_text}')"
   ]
  },
  {
   "cell_type": "code",
   "execution_count": 176,
   "metadata": {},
   "outputs": [],
   "source": [
    "query_ids = torch.tensor([tokenizer.encode(query, add_special_tokens=True)])\n",
    "\n",
    "with torch.no_grad():\n",
    "    query_state = model(query_ids)[0]\n",
    "    query_state = query_state[:, 1:-1, :]"
   ]
  },
  {
   "cell_type": "code",
   "execution_count": 177,
   "metadata": {},
   "outputs": [
    {
     "name": "stdout",
     "output_type": "stream",
     "text": [
      "1 40425 5.8850998878479 Clinical Characteristics of Two Human to Human Transmitted Coronaviruses: Corona Virus Disease 2019 versus Middle East Respiratory Syndrome Coronavirus.\n",
      "\tfor: ...id - 19 ) . the emergency $$of$$ mres - cov and cov ...\n",
      "\tfor: ... main complication . the most effective drug $$for$$ mers - cov is rib ...\n",
      "\t##virus: ... covid - 19 ) . the $$emergency$$ of mres - cov and ...\n",
      "\tto: ... the emergency of mres - cov $$and$$ covid - 19 has caused ...\n",
      "\t##virus: ... - cov is ribavirin and $$interferon$$ . ...\n",
      "2 9127 5.714200019836426 Meeting report: 28th International Conference on Antiviral Research in Rome, Italy\n",
      "\t##virus: ... , hev , hcv , and $$rsv$$ ) . a highlight of the ...\n",
      "\tfor: ... remarkable progress made in the therapy of $$chronic$$ hcv infections . a third key ...\n",
      "\t##virus: ... award , described how an investigation into $$hiv$$ entry inhibitors led to a new ...\n",
      "\t##virus: ... award , explored the world of viral $$proteins$$ and how they remodel to ...\n",
      "\tcure: ... on rna viruses , antiviral chemistry and $$emerging$$ viruses . there was a good ...\n",
      "3 9179 5.505799770355225 2017 international meeting of the Global Virus Network\n",
      "\tcure: ...n researchers in several important areas of $$medical$$ virology , including the recent zi ...\n",
      "\tco: ... and responses to emerging viral causes of $$human$$ disease and to prepare against new ...\n",
      "\tto: ... viruses , and new and emerging viruses $$in$$ the australasia region . plans ...\n",
      "\tco: ... of medical virology , including the recent $$zi$$ka epidemic , infections by human ...\n",
      "\tco: ... and new and emerging viruses in the $$austral$$asia region . plans for the ...\n",
      "4 40189 5.448400020599365 Epidemic Situation of Novel Coronavirus Pneumonia in China mainland\n",
      "\tco: ... [ objective ] analyze the occurrence of $$novel$$ coronavirus pneumonia ( ncp ...\n",
      "\t##virus: ... analyze the occurrence of novel coronavirus $$pneumonia$$ ( ncp ) in china ...\n",
      "\t##virus: ... the occurrence of novel coronavirus pneumonia $$($$ ncp ) in china main ...\n",
      "\tcure: ... ncp gradually declined , and the $$extinction$$ index of ncp rose little ...\n",
      "\t##ona: ... objective ] analyze the occurrence of novel $$corona$$virus pneumonia ( ncp ) ...\n",
      "5 24481 5.397299766540527 How Do the First Days Count? A Case Study of Qatar Experience in Emergency Risk Communication during the MERS-CoV Outbreak\n",
      "\t##virus: ... media stories were then assessed against the $$practiced$$ emergency risk communication ( erc ...\n",
      "\t##virus: ... . it provides a description of key $$epidemiologic$$ events and news released from a ...\n",
      "\twhich: ... needed to develop more rigorous and comprehensive $$research$$ strategies that address sharing of information ...\n",
      "\tfor: ... restore and maintain the credibility of responding $$agencies$$ . further work is needed to ...\n",
      "\t##virus: ... framework , the study analyzes how the $$performed$$ erc strategies during the first ...\n",
      "6 18027 5.335599899291992 Combination of IMOD™ and Arbidol to increase their immunomodulatory effects as a novel medicine to prevent and cure influenza and some other infectious diseases\n",
      "\tco: ...  $$abstract$$ viral diseases such as influenza , ...\n",
      "\tto: ... decades to prevent and cure all types $$of$$ influenza and flu . therefore , ...\n",
      "\tco: ... to health today . viruses such as $$avian$$ influenza viruses ( n1h ...\n",
      "\t##virus: ... and cure all types of influenza and $$flu$$ . therefore , the combination of ...\n",
      "\tco: ... . viruses such as avian influenza viruses $$($$ n1h5 and h ...\n",
      "7 40176 5.323500156402588 Utilize State Transition Matrix Model to Predict the Novel Corona Virus Infection Peak and Patient Distribution\n",
      "\tfor: ... background : since december 2019 , $$a$$ pneumonia caused by the 2019 ...\n",
      "\t##virus: ... : since december 2019 , a $$pneumonia$$ caused by the 2019 novel ...\n",
      "\t##virus: ... coronavirus ( 2019 - nc $$##ov$$ ) has broken out in wu ...\n",
      "\tfor: ... 2019 , a pneumonia caused by $$the$$ 2019 novel coronavirus ( ...\n",
      "\tfor: ...0 , respectively . we are using $$the$$ diagnosis rate , mortality rate , ...\n",
      "8 40270 5.321599960327148 Spread and control of COVID-19 in China and their associations with population movement, public health emergency measures, and medical resources\n",
      "\t##virus: ... the mass population movement for chinese new $$year$$ has significantly influenced spreading the disease ...\n",
      "\t##virus: ... emergency measures ( eg , city lock $$##down$$ and traffic control ) were associated ...\n",
      "\t##virus: ... control ) were associated with reduced infections $$nationwide$$ . moreover , the number of ...\n",
      "\tis: ... measures ( eg , city lockdown $$and$$ traffic control ) were associated with ...\n",
      "\tfor: ... globally . while the mass population movement $$for$$ chinese new year has significantly influenced ...\n",
      "9 22073 5.27209997177124 Highlights from the 2014 International Symposium on HIV & Emerging Infectious Diseases (ISHEID): from cART management to the end of the HIV pandemic\n",
      "\twhich: ... impact on the disease prognosis and transformed $$this$$ infection into a chronic disease . ...\n",
      "\t##virus: ... has been discussed in the areas of $$hcv$$ coinfection and present ...\n",
      "\t##virus: ... hiv and hcv infections as well as $$hiv$$ cure research . combined anti - ...\n",
      "\tfor: ... ) has had a profound impact on $$the$$ disease prognosis and transformed this infection ...\n",
      "\tto: ... latest research developments in the clinical management $$of$$ hiv and hcv infections as well ...\n",
      "10 9165 5.219699859619141 Highlights of the 30th International Conference on Antiviral Research\n",
      "\tfor: ... on pharmacological validation of new antiviral targets $$for$$ dengue , zika and other ...\n",
      "\t##virus: ... pharmacological validation of new antiviral targets for $$dengue$$ , zika and other flav ...\n",
      "\tto: ... validation of new antiviral targets for dengue $$,$$ zika and other flaviv ...\n",
      "\twhich: ... - acting antiviral sofosbuvir $$and$$ new alternatives to combat hepatitis b ...\n",
      "\tcure: ... of the most important accomplishments in $$recent$$ drug discovery in antiviral research , ...\n"
     ]
    }
   ],
   "source": [
    "n_documents = 10\n",
    "\n",
    "for ii in range(0, n_documents):\n",
    "    print(f'{ii+1} {hits[ii].docid} {hits[ii].score} {searcher.doc(hits[ii].ldocid).object.getField(\"title\").stringValue()}')\n",
    "    \n",
    "    doc = searcher.doc(hits[ii].ldocid).object\n",
    "    content = hits[0].content # raw content\n",
    "\n",
    "    abstract_ids = torch.tensor([tokenizer.encode(doc.getField('abstract').stringValue(), add_special_tokens=True)])\n",
    "    abstract_ids = abstract_ids[0,:512].unsqueeze(0)\n",
    "    with torch.no_grad():\n",
    "        abstract_state = model(abstract_ids)[0]\n",
    "        abstract_state = abstract_state[:, 1:-1, :]\n",
    "    \n",
    "    relevant_snippets(query_ids, query_state, abstract_ids, abstract_state, window=7)"
   ]
  },
  {
   "cell_type": "code",
   "execution_count": null,
   "metadata": {},
   "outputs": [],
   "source": []
  }
 ],
 "metadata": {
  "kernelspec": {
   "display_name": "Python 3",
   "language": "python",
   "name": "python3"
  },
  "language_info": {
   "codemirror_mode": {
    "name": "ipython",
    "version": 3
   },
   "file_extension": ".py",
   "mimetype": "text/x-python",
   "name": "python",
   "nbconvert_exporter": "python",
   "pygments_lexer": "ipython3",
   "version": "3.7.4"
  }
 },
 "nbformat": 4,
 "nbformat_minor": 4
}
