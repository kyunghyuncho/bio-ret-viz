{
  "nbformat": 4,
  "nbformat_minor": 0,
  "metadata": {
    "colab": {
      "name": "Copy of pyserini-covid19-default-demo.ipynb",
      "provenance": [],
      "collapsed_sections": [],
      "include_colab_link": true
    },
    "kernelspec": {
      "name": "python3",
      "display_name": "Python 3"
    },
    "accelerator": "GPU",
    "widgets": {
      "application/vnd.jupyter.widget-state+json": {
        "69b31d9a127846ce9a085c1718361919": {
          "model_module": "@jupyter-widgets/controls",
          "model_name": "HBoxModel",
          "state": {
            "_view_name": "HBoxView",
            "_dom_classes": [],
            "_model_name": "HBoxModel",
            "_view_module": "@jupyter-widgets/controls",
            "_model_module_version": "1.5.0",
            "_view_count": null,
            "_view_module_version": "1.5.0",
            "box_style": "",
            "layout": "IPY_MODEL_ab609f410fa845ba86388ae0cdd8e308",
            "_model_module": "@jupyter-widgets/controls",
            "children": [
              "IPY_MODEL_f672e067718a47e9bc1a741bbaa9dd36",
              "IPY_MODEL_02c8c6601fd74532908897dd6ba00642"
            ]
          }
        },
        "ab609f410fa845ba86388ae0cdd8e308": {
          "model_module": "@jupyter-widgets/base",
          "model_name": "LayoutModel",
          "state": {
            "_view_name": "LayoutView",
            "grid_template_rows": null,
            "right": null,
            "justify_content": null,
            "_view_module": "@jupyter-widgets/base",
            "overflow": null,
            "_model_module_version": "1.2.0",
            "_view_count": null,
            "flex_flow": null,
            "width": null,
            "min_width": null,
            "border": null,
            "align_items": null,
            "bottom": null,
            "_model_module": "@jupyter-widgets/base",
            "top": null,
            "grid_column": null,
            "overflow_y": null,
            "overflow_x": null,
            "grid_auto_flow": null,
            "grid_area": null,
            "grid_template_columns": null,
            "flex": null,
            "_model_name": "LayoutModel",
            "justify_items": null,
            "grid_row": null,
            "max_height": null,
            "align_content": null,
            "visibility": null,
            "align_self": null,
            "height": null,
            "min_height": null,
            "padding": null,
            "grid_auto_rows": null,
            "grid_gap": null,
            "max_width": null,
            "order": null,
            "_view_module_version": "1.2.0",
            "grid_template_areas": null,
            "object_position": null,
            "object_fit": null,
            "grid_auto_columns": null,
            "margin": null,
            "display": null,
            "left": null
          }
        },
        "f672e067718a47e9bc1a741bbaa9dd36": {
          "model_module": "@jupyter-widgets/controls",
          "model_name": "IntProgressModel",
          "state": {
            "_view_name": "ProgressView",
            "style": "IPY_MODEL_3fc159bfdb1b46ea8b6d462f43c42980",
            "_dom_classes": [],
            "description": "Downloading: 100%",
            "_model_name": "IntProgressModel",
            "bar_style": "success",
            "max": 313,
            "_view_module": "@jupyter-widgets/controls",
            "_model_module_version": "1.5.0",
            "value": 313,
            "_view_count": null,
            "_view_module_version": "1.5.0",
            "orientation": "horizontal",
            "min": 0,
            "description_tooltip": null,
            "_model_module": "@jupyter-widgets/controls",
            "layout": "IPY_MODEL_a92e5c7910914adaa58f8f051f71f11b"
          }
        },
        "02c8c6601fd74532908897dd6ba00642": {
          "model_module": "@jupyter-widgets/controls",
          "model_name": "HTMLModel",
          "state": {
            "_view_name": "HTMLView",
            "style": "IPY_MODEL_d8178af03865496db91a56d5d3a0cc57",
            "_dom_classes": [],
            "description": "",
            "_model_name": "HTMLModel",
            "placeholder": "​",
            "_view_module": "@jupyter-widgets/controls",
            "_model_module_version": "1.5.0",
            "value": " 313/313 [00:01&lt;00:00, 187B/s]",
            "_view_count": null,
            "_view_module_version": "1.5.0",
            "description_tooltip": null,
            "_model_module": "@jupyter-widgets/controls",
            "layout": "IPY_MODEL_1ef1ac1d6c1e456caa6992593d367352"
          }
        },
        "3fc159bfdb1b46ea8b6d462f43c42980": {
          "model_module": "@jupyter-widgets/controls",
          "model_name": "ProgressStyleModel",
          "state": {
            "_view_name": "StyleView",
            "_model_name": "ProgressStyleModel",
            "description_width": "initial",
            "_view_module": "@jupyter-widgets/base",
            "_model_module_version": "1.5.0",
            "_view_count": null,
            "_view_module_version": "1.2.0",
            "bar_color": null,
            "_model_module": "@jupyter-widgets/controls"
          }
        },
        "a92e5c7910914adaa58f8f051f71f11b": {
          "model_module": "@jupyter-widgets/base",
          "model_name": "LayoutModel",
          "state": {
            "_view_name": "LayoutView",
            "grid_template_rows": null,
            "right": null,
            "justify_content": null,
            "_view_module": "@jupyter-widgets/base",
            "overflow": null,
            "_model_module_version": "1.2.0",
            "_view_count": null,
            "flex_flow": null,
            "width": null,
            "min_width": null,
            "border": null,
            "align_items": null,
            "bottom": null,
            "_model_module": "@jupyter-widgets/base",
            "top": null,
            "grid_column": null,
            "overflow_y": null,
            "overflow_x": null,
            "grid_auto_flow": null,
            "grid_area": null,
            "grid_template_columns": null,
            "flex": null,
            "_model_name": "LayoutModel",
            "justify_items": null,
            "grid_row": null,
            "max_height": null,
            "align_content": null,
            "visibility": null,
            "align_self": null,
            "height": null,
            "min_height": null,
            "padding": null,
            "grid_auto_rows": null,
            "grid_gap": null,
            "max_width": null,
            "order": null,
            "_view_module_version": "1.2.0",
            "grid_template_areas": null,
            "object_position": null,
            "object_fit": null,
            "grid_auto_columns": null,
            "margin": null,
            "display": null,
            "left": null
          }
        },
        "d8178af03865496db91a56d5d3a0cc57": {
          "model_module": "@jupyter-widgets/controls",
          "model_name": "DescriptionStyleModel",
          "state": {
            "_view_name": "StyleView",
            "_model_name": "DescriptionStyleModel",
            "description_width": "",
            "_view_module": "@jupyter-widgets/base",
            "_model_module_version": "1.5.0",
            "_view_count": null,
            "_view_module_version": "1.2.0",
            "_model_module": "@jupyter-widgets/controls"
          }
        },
        "1ef1ac1d6c1e456caa6992593d367352": {
          "model_module": "@jupyter-widgets/base",
          "model_name": "LayoutModel",
          "state": {
            "_view_name": "LayoutView",
            "grid_template_rows": null,
            "right": null,
            "justify_content": null,
            "_view_module": "@jupyter-widgets/base",
            "overflow": null,
            "_model_module_version": "1.2.0",
            "_view_count": null,
            "flex_flow": null,
            "width": null,
            "min_width": null,
            "border": null,
            "align_items": null,
            "bottom": null,
            "_model_module": "@jupyter-widgets/base",
            "top": null,
            "grid_column": null,
            "overflow_y": null,
            "overflow_x": null,
            "grid_auto_flow": null,
            "grid_area": null,
            "grid_template_columns": null,
            "flex": null,
            "_model_name": "LayoutModel",
            "justify_items": null,
            "grid_row": null,
            "max_height": null,
            "align_content": null,
            "visibility": null,
            "align_self": null,
            "height": null,
            "min_height": null,
            "padding": null,
            "grid_auto_rows": null,
            "grid_gap": null,
            "max_width": null,
            "order": null,
            "_view_module_version": "1.2.0",
            "grid_template_areas": null,
            "object_position": null,
            "object_fit": null,
            "grid_auto_columns": null,
            "margin": null,
            "display": null,
            "left": null
          }
        },
        "9e04d92a35cd4230a1f68332eeb3989c": {
          "model_module": "@jupyter-widgets/controls",
          "model_name": "HBoxModel",
          "state": {
            "_view_name": "HBoxView",
            "_dom_classes": [],
            "_model_name": "HBoxModel",
            "_view_module": "@jupyter-widgets/controls",
            "_model_module_version": "1.5.0",
            "_view_count": null,
            "_view_module_version": "1.5.0",
            "box_style": "",
            "layout": "IPY_MODEL_5c40586819754261a141a6b88396e38b",
            "_model_module": "@jupyter-widgets/controls",
            "children": [
              "IPY_MODEL_0ef3894860ad41328dd9540076c684bf",
              "IPY_MODEL_b3ea4f0305fe4066a2be697fdc3188d2"
            ]
          }
        },
        "5c40586819754261a141a6b88396e38b": {
          "model_module": "@jupyter-widgets/base",
          "model_name": "LayoutModel",
          "state": {
            "_view_name": "LayoutView",
            "grid_template_rows": null,
            "right": null,
            "justify_content": null,
            "_view_module": "@jupyter-widgets/base",
            "overflow": null,
            "_model_module_version": "1.2.0",
            "_view_count": null,
            "flex_flow": null,
            "width": null,
            "min_width": null,
            "border": null,
            "align_items": null,
            "bottom": null,
            "_model_module": "@jupyter-widgets/base",
            "top": null,
            "grid_column": null,
            "overflow_y": null,
            "overflow_x": null,
            "grid_auto_flow": null,
            "grid_area": null,
            "grid_template_columns": null,
            "flex": null,
            "_model_name": "LayoutModel",
            "justify_items": null,
            "grid_row": null,
            "max_height": null,
            "align_content": null,
            "visibility": null,
            "align_self": null,
            "height": null,
            "min_height": null,
            "padding": null,
            "grid_auto_rows": null,
            "grid_gap": null,
            "max_width": null,
            "order": null,
            "_view_module_version": "1.2.0",
            "grid_template_areas": null,
            "object_position": null,
            "object_fit": null,
            "grid_auto_columns": null,
            "margin": null,
            "display": null,
            "left": null
          }
        },
        "0ef3894860ad41328dd9540076c684bf": {
          "model_module": "@jupyter-widgets/controls",
          "model_name": "IntProgressModel",
          "state": {
            "_view_name": "ProgressView",
            "style": "IPY_MODEL_31117b7d0d624f50acc63317961c1633",
            "_dom_classes": [],
            "description": "Downloading: 100%",
            "_model_name": "IntProgressModel",
            "bar_style": "success",
            "max": 222296,
            "_view_module": "@jupyter-widgets/controls",
            "_model_module_version": "1.5.0",
            "value": 222296,
            "_view_count": null,
            "_view_module_version": "1.5.0",
            "orientation": "horizontal",
            "min": 0,
            "description_tooltip": null,
            "_model_module": "@jupyter-widgets/controls",
            "layout": "IPY_MODEL_da75ddbf1b5f40b29c5b3b09a9c3d843"
          }
        },
        "b3ea4f0305fe4066a2be697fdc3188d2": {
          "model_module": "@jupyter-widgets/controls",
          "model_name": "HTMLModel",
          "state": {
            "_view_name": "HTMLView",
            "style": "IPY_MODEL_e990c10c236f4b948ddf1ed248280bfe",
            "_dom_classes": [],
            "description": "",
            "_model_name": "HTMLModel",
            "placeholder": "​",
            "_view_module": "@jupyter-widgets/controls",
            "_model_module_version": "1.5.0",
            "value": " 222k/222k [00:01&lt;00:00, 214kB/s]",
            "_view_count": null,
            "_view_module_version": "1.5.0",
            "description_tooltip": null,
            "_model_module": "@jupyter-widgets/controls",
            "layout": "IPY_MODEL_5afdbf46d5c246e98d0fa4fd7a0bd52b"
          }
        },
        "31117b7d0d624f50acc63317961c1633": {
          "model_module": "@jupyter-widgets/controls",
          "model_name": "ProgressStyleModel",
          "state": {
            "_view_name": "StyleView",
            "_model_name": "ProgressStyleModel",
            "description_width": "initial",
            "_view_module": "@jupyter-widgets/base",
            "_model_module_version": "1.5.0",
            "_view_count": null,
            "_view_module_version": "1.2.0",
            "bar_color": null,
            "_model_module": "@jupyter-widgets/controls"
          }
        },
        "da75ddbf1b5f40b29c5b3b09a9c3d843": {
          "model_module": "@jupyter-widgets/base",
          "model_name": "LayoutModel",
          "state": {
            "_view_name": "LayoutView",
            "grid_template_rows": null,
            "right": null,
            "justify_content": null,
            "_view_module": "@jupyter-widgets/base",
            "overflow": null,
            "_model_module_version": "1.2.0",
            "_view_count": null,
            "flex_flow": null,
            "width": null,
            "min_width": null,
            "border": null,
            "align_items": null,
            "bottom": null,
            "_model_module": "@jupyter-widgets/base",
            "top": null,
            "grid_column": null,
            "overflow_y": null,
            "overflow_x": null,
            "grid_auto_flow": null,
            "grid_area": null,
            "grid_template_columns": null,
            "flex": null,
            "_model_name": "LayoutModel",
            "justify_items": null,
            "grid_row": null,
            "max_height": null,
            "align_content": null,
            "visibility": null,
            "align_self": null,
            "height": null,
            "min_height": null,
            "padding": null,
            "grid_auto_rows": null,
            "grid_gap": null,
            "max_width": null,
            "order": null,
            "_view_module_version": "1.2.0",
            "grid_template_areas": null,
            "object_position": null,
            "object_fit": null,
            "grid_auto_columns": null,
            "margin": null,
            "display": null,
            "left": null
          }
        },
        "e990c10c236f4b948ddf1ed248280bfe": {
          "model_module": "@jupyter-widgets/controls",
          "model_name": "DescriptionStyleModel",
          "state": {
            "_view_name": "StyleView",
            "_model_name": "DescriptionStyleModel",
            "description_width": "",
            "_view_module": "@jupyter-widgets/base",
            "_model_module_version": "1.5.0",
            "_view_count": null,
            "_view_module_version": "1.2.0",
            "_model_module": "@jupyter-widgets/controls"
          }
        },
        "5afdbf46d5c246e98d0fa4fd7a0bd52b": {
          "model_module": "@jupyter-widgets/base",
          "model_name": "LayoutModel",
          "state": {
            "_view_name": "LayoutView",
            "grid_template_rows": null,
            "right": null,
            "justify_content": null,
            "_view_module": "@jupyter-widgets/base",
            "overflow": null,
            "_model_module_version": "1.2.0",
            "_view_count": null,
            "flex_flow": null,
            "width": null,
            "min_width": null,
            "border": null,
            "align_items": null,
            "bottom": null,
            "_model_module": "@jupyter-widgets/base",
            "top": null,
            "grid_column": null,
            "overflow_y": null,
            "overflow_x": null,
            "grid_auto_flow": null,
            "grid_area": null,
            "grid_template_columns": null,
            "flex": null,
            "_model_name": "LayoutModel",
            "justify_items": null,
            "grid_row": null,
            "max_height": null,
            "align_content": null,
            "visibility": null,
            "align_self": null,
            "height": null,
            "min_height": null,
            "padding": null,
            "grid_auto_rows": null,
            "grid_gap": null,
            "max_width": null,
            "order": null,
            "_view_module_version": "1.2.0",
            "grid_template_areas": null,
            "object_position": null,
            "object_fit": null,
            "grid_auto_columns": null,
            "margin": null,
            "display": null,
            "left": null
          }
        },
        "f22cde11a4d14e02b43c24316881dcae": {
          "model_module": "@jupyter-widgets/controls",
          "model_name": "HBoxModel",
          "state": {
            "_view_name": "HBoxView",
            "_dom_classes": [],
            "_model_name": "HBoxModel",
            "_view_module": "@jupyter-widgets/controls",
            "_model_module_version": "1.5.0",
            "_view_count": null,
            "_view_module_version": "1.5.0",
            "box_style": "",
            "layout": "IPY_MODEL_8655da061ea34a16800b111d6e20c69a",
            "_model_module": "@jupyter-widgets/controls",
            "children": [
              "IPY_MODEL_82b06cc5c5684ef5b6502eb99a6d32ec",
              "IPY_MODEL_93d84aebb3c547a9b1398b975e08c60e"
            ]
          }
        },
        "8655da061ea34a16800b111d6e20c69a": {
          "model_module": "@jupyter-widgets/base",
          "model_name": "LayoutModel",
          "state": {
            "_view_name": "LayoutView",
            "grid_template_rows": null,
            "right": null,
            "justify_content": null,
            "_view_module": "@jupyter-widgets/base",
            "overflow": null,
            "_model_module_version": "1.2.0",
            "_view_count": null,
            "flex_flow": null,
            "width": null,
            "min_width": null,
            "border": null,
            "align_items": null,
            "bottom": null,
            "_model_module": "@jupyter-widgets/base",
            "top": null,
            "grid_column": null,
            "overflow_y": null,
            "overflow_x": null,
            "grid_auto_flow": null,
            "grid_area": null,
            "grid_template_columns": null,
            "flex": null,
            "_model_name": "LayoutModel",
            "justify_items": null,
            "grid_row": null,
            "max_height": null,
            "align_content": null,
            "visibility": null,
            "align_self": null,
            "height": null,
            "min_height": null,
            "padding": null,
            "grid_auto_rows": null,
            "grid_gap": null,
            "max_width": null,
            "order": null,
            "_view_module_version": "1.2.0",
            "grid_template_areas": null,
            "object_position": null,
            "object_fit": null,
            "grid_auto_columns": null,
            "margin": null,
            "display": null,
            "left": null
          }
        },
        "82b06cc5c5684ef5b6502eb99a6d32ec": {
          "model_module": "@jupyter-widgets/controls",
          "model_name": "IntProgressModel",
          "state": {
            "_view_name": "ProgressView",
            "style": "IPY_MODEL_55f0585b2b9c4872b76215540fe2d010",
            "_dom_classes": [],
            "description": "Downloading: 100%",
            "_model_name": "IntProgressModel",
            "bar_style": "success",
            "max": 442301670,
            "_view_module": "@jupyter-widgets/controls",
            "_model_module_version": "1.5.0",
            "value": 442301670,
            "_view_count": null,
            "_view_module_version": "1.5.0",
            "orientation": "horizontal",
            "min": 0,
            "description_tooltip": null,
            "_model_module": "@jupyter-widgets/controls",
            "layout": "IPY_MODEL_890c6e99f177467481405dfe2a3fc339"
          }
        },
        "93d84aebb3c547a9b1398b975e08c60e": {
          "model_module": "@jupyter-widgets/controls",
          "model_name": "HTMLModel",
          "state": {
            "_view_name": "HTMLView",
            "style": "IPY_MODEL_94d6f73960f54bfba3897bdb3ff40b49",
            "_dom_classes": [],
            "description": "",
            "_model_name": "HTMLModel",
            "placeholder": "​",
            "_view_module": "@jupyter-widgets/controls",
            "_model_module_version": "1.5.0",
            "value": " 442M/442M [00:12&lt;00:00, 35.1MB/s]",
            "_view_count": null,
            "_view_module_version": "1.5.0",
            "description_tooltip": null,
            "_model_module": "@jupyter-widgets/controls",
            "layout": "IPY_MODEL_4e91ba3985ab4306bf68027b01de8e49"
          }
        },
        "55f0585b2b9c4872b76215540fe2d010": {
          "model_module": "@jupyter-widgets/controls",
          "model_name": "ProgressStyleModel",
          "state": {
            "_view_name": "StyleView",
            "_model_name": "ProgressStyleModel",
            "description_width": "initial",
            "_view_module": "@jupyter-widgets/base",
            "_model_module_version": "1.5.0",
            "_view_count": null,
            "_view_module_version": "1.2.0",
            "bar_color": null,
            "_model_module": "@jupyter-widgets/controls"
          }
        },
        "890c6e99f177467481405dfe2a3fc339": {
          "model_module": "@jupyter-widgets/base",
          "model_name": "LayoutModel",
          "state": {
            "_view_name": "LayoutView",
            "grid_template_rows": null,
            "right": null,
            "justify_content": null,
            "_view_module": "@jupyter-widgets/base",
            "overflow": null,
            "_model_module_version": "1.2.0",
            "_view_count": null,
            "flex_flow": null,
            "width": null,
            "min_width": null,
            "border": null,
            "align_items": null,
            "bottom": null,
            "_model_module": "@jupyter-widgets/base",
            "top": null,
            "grid_column": null,
            "overflow_y": null,
            "overflow_x": null,
            "grid_auto_flow": null,
            "grid_area": null,
            "grid_template_columns": null,
            "flex": null,
            "_model_name": "LayoutModel",
            "justify_items": null,
            "grid_row": null,
            "max_height": null,
            "align_content": null,
            "visibility": null,
            "align_self": null,
            "height": null,
            "min_height": null,
            "padding": null,
            "grid_auto_rows": null,
            "grid_gap": null,
            "max_width": null,
            "order": null,
            "_view_module_version": "1.2.0",
            "grid_template_areas": null,
            "object_position": null,
            "object_fit": null,
            "grid_auto_columns": null,
            "margin": null,
            "display": null,
            "left": null
          }
        },
        "94d6f73960f54bfba3897bdb3ff40b49": {
          "model_module": "@jupyter-widgets/controls",
          "model_name": "DescriptionStyleModel",
          "state": {
            "_view_name": "StyleView",
            "_model_name": "DescriptionStyleModel",
            "description_width": "",
            "_view_module": "@jupyter-widgets/base",
            "_model_module_version": "1.5.0",
            "_view_count": null,
            "_view_module_version": "1.2.0",
            "_model_module": "@jupyter-widgets/controls"
          }
        },
        "4e91ba3985ab4306bf68027b01de8e49": {
          "model_module": "@jupyter-widgets/base",
          "model_name": "LayoutModel",
          "state": {
            "_view_name": "LayoutView",
            "grid_template_rows": null,
            "right": null,
            "justify_content": null,
            "_view_module": "@jupyter-widgets/base",
            "overflow": null,
            "_model_module_version": "1.2.0",
            "_view_count": null,
            "flex_flow": null,
            "width": null,
            "min_width": null,
            "border": null,
            "align_items": null,
            "bottom": null,
            "_model_module": "@jupyter-widgets/base",
            "top": null,
            "grid_column": null,
            "overflow_y": null,
            "overflow_x": null,
            "grid_auto_flow": null,
            "grid_area": null,
            "grid_template_columns": null,
            "flex": null,
            "_model_name": "LayoutModel",
            "justify_items": null,
            "grid_row": null,
            "max_height": null,
            "align_content": null,
            "visibility": null,
            "align_self": null,
            "height": null,
            "min_height": null,
            "padding": null,
            "grid_auto_rows": null,
            "grid_gap": null,
            "max_width": null,
            "order": null,
            "_view_module_version": "1.2.0",
            "grid_template_areas": null,
            "object_position": null,
            "object_fit": null,
            "grid_auto_columns": null,
            "margin": null,
            "display": null,
            "left": null
          }
        }
      }
    }
  },
  "cells": [
    {
      "cell_type": "markdown",
      "metadata": {
        "id": "view-in-github",
        "colab_type": "text"
      },
      "source": [
        "<a href=\"https://colab.research.google.com/github/kyunghyuncho/bio-ret-viz/blob/master/pyserini_scibert_covid19_demo.ipynb\" target=\"_parent\"><img src=\"https://colab.research.google.com/assets/colab-badge.svg\" alt=\"Open In Colab\"/></a>"
      ]
    },
    {
      "cell_type": "markdown",
      "metadata": {
        "id": "vUpmSFflwzR1",
        "colab_type": "text"
      },
      "source": [
        "# Pyserini Demo on COVID-19 Dataset (Title + Abstract Index) \n",
        "# with HuggingFace Transformers based visualization\n"
      ]
    },
    {
      "cell_type": "markdown",
      "metadata": {
        "id": "0RtnmBN6A-Oq",
        "colab_type": "text"
      },
      "source": [
        "This notebook provides a demo on how to get started in searching the [COVID-19 Open Research Dataset](https://pages.semanticscholar.org/coronavirus-research) (release of 2020/03/20) from AI2.\n",
        "In this notebook, we'll be working with the title + abstract index. \n",
        "Specifically, we're not indexing the full text (that'll come later, soon!).\n"
      ]
    },
    {
      "cell_type": "code",
      "metadata": {
        "id": "q93fI77dY9HU",
        "colab_type": "code",
        "colab": {}
      },
      "source": [
        "from IPython.core.display import display, HTML"
      ],
      "execution_count": 0,
      "outputs": []
    },
    {
      "cell_type": "markdown",
      "metadata": {
        "id": "f2vNd7bpJlDZ",
        "colab_type": "text"
      },
      "source": [
        "First, install Python dependencies"
      ]
    },
    {
      "cell_type": "code",
      "metadata": {
        "id": "E_lt0-pXJia0",
        "colab_type": "code",
        "colab": {}
      },
      "source": [
        "%%capture\n",
        "!pip install pyserini==0.8.1.0\n",
        "!pip install transformers\n",
        "\n",
        "import json\n",
        "import os\n",
        "os.environ[\"JAVA_HOME\"] = \"/usr/lib/jvm/java-11-openjdk-amd64\""
      ],
      "execution_count": 0,
      "outputs": []
    },
    {
      "cell_type": "markdown",
      "metadata": {
        "id": "xbXmstbGypef",
        "colab_type": "text"
      },
      "source": [
        "Let's grab the pre-built index:"
      ]
    },
    {
      "cell_type": "code",
      "metadata": {
        "id": "JT_OJKftdqGP",
        "colab_type": "code",
        "colab": {}
      },
      "source": [
        "%%capture\n",
        "!wget https://www.dropbox.com/s/uvjwgy4re2myq5s/lucene-index-covid-2020-03-20.tar.gz\n",
        "!tar xvfz lucene-index-covid-2020-03-20.tar.gz"
      ],
      "execution_count": 0,
      "outputs": []
    },
    {
      "cell_type": "code",
      "metadata": {
        "id": "KVXWA6WS0aqJ",
        "colab_type": "code",
        "outputId": "3f2cf09f-2891-4433-ec59-21acfba6b345",
        "colab": {
          "base_uri": "https://localhost:8080/",
          "height": 34
        }
      },
      "source": [
        "!du -h lucene-index-covid-2020-03-20"
      ],
      "execution_count": 74,
      "outputs": [
        {
          "output_type": "stream",
          "text": [
            "1.3G\tlucene-index-covid-2020-03-20\n"
          ],
          "name": "stdout"
        }
      ]
    },
    {
      "cell_type": "markdown",
      "metadata": {
        "id": "e98LWXwXSxG1",
        "colab_type": "text"
      },
      "source": [
        "Let's load SciBERT (https://github.com/allenai/scibert) from HuggingFace Transformers"
      ]
    },
    {
      "cell_type": "code",
      "metadata": {
        "id": "UBlFYHejSr2H",
        "colab_type": "code",
        "colab": {}
      },
      "source": [
        "import torch\n",
        "import numpy"
      ],
      "execution_count": 0,
      "outputs": []
    },
    {
      "cell_type": "code",
      "metadata": {
        "id": "JE5ESlIFVxTz",
        "colab_type": "code",
        "colab": {}
      },
      "source": [
        "from tqdm import tqdm"
      ],
      "execution_count": 0,
      "outputs": []
    },
    {
      "cell_type": "code",
      "metadata": {
        "id": "E4DXP0LESvhi",
        "colab_type": "code",
        "colab": {
          "base_uri": "https://localhost:8080/",
          "height": 164,
          "referenced_widgets": [
            "69b31d9a127846ce9a085c1718361919",
            "ab609f410fa845ba86388ae0cdd8e308",
            "f672e067718a47e9bc1a741bbaa9dd36",
            "02c8c6601fd74532908897dd6ba00642",
            "3fc159bfdb1b46ea8b6d462f43c42980",
            "a92e5c7910914adaa58f8f051f71f11b",
            "d8178af03865496db91a56d5d3a0cc57",
            "1ef1ac1d6c1e456caa6992593d367352",
            "9e04d92a35cd4230a1f68332eeb3989c",
            "5c40586819754261a141a6b88396e38b",
            "0ef3894860ad41328dd9540076c684bf",
            "b3ea4f0305fe4066a2be697fdc3188d2",
            "31117b7d0d624f50acc63317961c1633",
            "da75ddbf1b5f40b29c5b3b09a9c3d843",
            "e990c10c236f4b948ddf1ed248280bfe",
            "5afdbf46d5c246e98d0fa4fd7a0bd52b",
            "f22cde11a4d14e02b43c24316881dcae",
            "8655da061ea34a16800b111d6e20c69a",
            "82b06cc5c5684ef5b6502eb99a6d32ec",
            "93d84aebb3c547a9b1398b975e08c60e",
            "55f0585b2b9c4872b76215540fe2d010",
            "890c6e99f177467481405dfe2a3fc339",
            "94d6f73960f54bfba3897bdb3ff40b49",
            "4e91ba3985ab4306bf68027b01de8e49"
          ]
        },
        "outputId": "8fce4f08-a151-4835-8bc7-34ca26d6aebe"
      },
      "source": [
        "from transformers import *\n",
        "\n",
        "tokenizer = AutoTokenizer.from_pretrained('allenai/scibert_scivocab_cased')\n",
        "model = AutoModel.from_pretrained('allenai/scibert_scivocab_cased')"
      ],
      "execution_count": 72,
      "outputs": [
        {
          "output_type": "display_data",
          "data": {
            "application/vnd.jupyter.widget-view+json": {
              "model_id": "69b31d9a127846ce9a085c1718361919",
              "version_minor": 0,
              "version_major": 2
            },
            "text/plain": [
              "HBox(children=(IntProgress(value=0, description='Downloading', max=313, style=ProgressStyle(description_width=…"
            ]
          },
          "metadata": {
            "tags": []
          }
        },
        {
          "output_type": "stream",
          "text": [
            "\n"
          ],
          "name": "stdout"
        },
        {
          "output_type": "display_data",
          "data": {
            "application/vnd.jupyter.widget-view+json": {
              "model_id": "9e04d92a35cd4230a1f68332eeb3989c",
              "version_minor": 0,
              "version_major": 2
            },
            "text/plain": [
              "HBox(children=(IntProgress(value=0, description='Downloading', max=222296, style=ProgressStyle(description_wid…"
            ]
          },
          "metadata": {
            "tags": []
          }
        },
        {
          "output_type": "stream",
          "text": [
            "\n"
          ],
          "name": "stdout"
        },
        {
          "output_type": "display_data",
          "data": {
            "application/vnd.jupyter.widget-view+json": {
              "model_id": "f22cde11a4d14e02b43c24316881dcae",
              "version_minor": 0,
              "version_major": 2
            },
            "text/plain": [
              "HBox(children=(IntProgress(value=0, description='Downloading', max=442301670, style=ProgressStyle(description_…"
            ]
          },
          "metadata": {
            "tags": []
          }
        },
        {
          "output_type": "stream",
          "text": [
            "\n"
          ],
          "name": "stdout"
        }
      ]
    },
    {
      "cell_type": "markdown",
      "metadata": {
        "id": "EwVSvHBz9RMM",
        "colab_type": "text"
      },
      "source": [
        "Sanity check of index size (should be 1.3G):"
      ]
    },
    {
      "cell_type": "markdown",
      "metadata": {
        "id": "NkD0kKxW9mHP",
        "colab_type": "text"
      },
      "source": [
        "You can use `pysearch` to search over an index. Here's the basic usage:"
      ]
    },
    {
      "cell_type": "code",
      "metadata": {
        "id": "fI2HRj48TTr3",
        "colab_type": "code",
        "colab": {}
      },
      "source": [
        "query = 'integration degradation synthesis host immune'"
      ],
      "execution_count": 0,
      "outputs": []
    },
    {
      "cell_type": "code",
      "metadata": {
        "id": "yFZlcqEX0t1f",
        "colab_type": "code",
        "outputId": "2dfd5af9-00fe-4a6c-95f2-d093c9dabea7",
        "colab": {
          "base_uri": "https://localhost:8080/",
          "height": 439
        }
      },
      "source": [
        "from pyserini.search import pysearch\n",
        "\n",
        "searcher = pysearch.SimpleSearcher('lucene-index-covid-2020-03-20/')\n",
        "hits = searcher.search(query)\n",
        "\n",
        "display(HTML('<div style=\"font-family: Times New Roman; font-size: 20px; padding-bottom:12px\"><b>Query</b>: '+query+'</div>'))\n",
        "\n",
        "# Prints the first 10 hits\n",
        "for i in range(0, 10):\n",
        "  display(HTML('<div style=\"font-family: Times New Roman; font-size: 18px; padding-bottom:10px\">' + \n",
        "               F'{i+1} {hits[i].docid} ({hits[i].score:1.2f}) -- ' +\n",
        "               F'{hits[i].lucene_document.get(\"authors\")} et al. ' +\n",
        "              #  F'{hits[i].lucene_document.get(\"journal\")}. ' +\n",
        "              #  F'{hits[i].lucene_document.get(\"publish_time\")}. ' +\n",
        "               F'{hits[i].lucene_document.get(\"title\")}. ' +\n",
        "               F'<a href=\"https://doi.org/{hits[i].lucene_document.get(\"doi\")}\">{hits[i].lucene_document.get(\"doi\")}</a>.'\n",
        "               + '</div>'))"
      ],
      "execution_count": 113,
      "outputs": [
        {
          "output_type": "display_data",
          "data": {
            "text/html": [
              "<div style=\"font-family: Times New Roman; font-size: 20px; padding-bottom:12px\"><b>Query</b>: integration degradation synthesis host immune</div>"
            ],
            "text/plain": [
              "<IPython.core.display.HTML object>"
            ]
          },
          "metadata": {
            "tags": []
          }
        },
        {
          "output_type": "display_data",
          "data": {
            "text/html": [
              "<div style=\"font-family: Times New Roman; font-size: 18px; padding-bottom:10px\">1 35473 (8.18) -- Krishna Narayanan et al. Severe Acute Respiratory Syndrome Coronavirus nsp1 Suppresses Host Gene Expression, Including That of Type I Interferon, in Infected Cells. <a href=\"https://doi.org/10.1128/JVI.02472-07\">10.1128/JVI.02472-07</a>.</div>"
            ],
            "text/plain": [
              "<IPython.core.display.HTML object>"
            ]
          },
          "metadata": {
            "tags": []
          }
        },
        {
          "output_type": "display_data",
          "data": {
            "text/html": [
              "<div style=\"font-family: Times New Roman; font-size: 18px; padding-bottom:10px\">2 36110 (8.10) -- Wataru Kamitani et al. Severe acute respiratory syndrome coronavirus nsp1 protein suppresses host gene expression by promoting host mRNA degradation. <a href=\"https://doi.org/10.1073/pnas.0603144103\">10.1073/pnas.0603144103</a>.</div>"
            ],
            "text/plain": [
              "<IPython.core.display.HTML object>"
            ]
          },
          "metadata": {
            "tags": []
          }
        },
        {
          "output_type": "display_data",
          "data": {
            "text/html": [
              "<div style=\"font-family: Times New Roman; font-size: 18px; padding-bottom:10px\">3 24257 (7.97) -- Sarah van Tol et al. The TRIMendous Role of TRIMs in Virus–Host Interactions. <a href=\"https://doi.org/10.3390/vaccines5030023\">10.3390/vaccines5030023</a>.</div>"
            ],
            "text/plain": [
              "<IPython.core.display.HTML object>"
            ]
          },
          "metadata": {
            "tags": []
          }
        },
        {
          "output_type": "display_data",
          "data": {
            "text/html": [
              "<div style=\"font-family: Times New Roman; font-size: 18px; padding-bottom:10px\">4 42237 (7.80) -- Denys A. Khaperskyy et al. Selective Degradation of Host RNA Polymerase II Transcripts by Influenza A Virus PA-X Host Shutoff Protein. <a href=\"https://doi.org/10.1371/journal.ppat.1005427\">10.1371/journal.ppat.1005427</a>.</div>"
            ],
            "text/plain": [
              "<IPython.core.display.HTML object>"
            ]
          },
          "metadata": {
            "tags": []
          }
        },
        {
          "output_type": "display_data",
          "data": {
            "text/html": [
              "<div style=\"font-family: Times New Roman; font-size: 18px; padding-bottom:10px\">5 39718 (7.79) -- D. E. Goodman et al. Enhanced replication of mouse adenovirus type 1 following virus-induced degradation of protein kinase R (PKR). <a href=\"https://doi.org/10.1101/584680\">10.1101/584680</a>.</div>"
            ],
            "text/plain": [
              "<IPython.core.display.HTML object>"
            ]
          },
          "metadata": {
            "tags": []
          }
        },
        {
          "output_type": "display_data",
          "data": {
            "text/html": [
              "<div style=\"font-family: Times New Roman; font-size: 18px; padding-bottom:10px\">6 7087 (7.78) -- Joana Loureiro et al. Antigen Presentation and the Ubiquitin‐Proteasome System in Host–Pathogen Interactions. <a href=\"https://doi.org/10.1016/S0065-2776(06)92006-9\">10.1016/S0065-2776(06)92006-9</a>.</div>"
            ],
            "text/plain": [
              "<IPython.core.display.HTML object>"
            ]
          },
          "metadata": {
            "tags": []
          }
        },
        {
          "output_type": "display_data",
          "data": {
            "text/html": [
              "<div style=\"font-family: Times New Roman; font-size: 18px; padding-bottom:10px\">7 31913 (7.73) -- Song Wang et al. Influenza A Virus-Induced Degradation of Eukaryotic Translation Initiation Factor 4B Contributes to Viral Replication by Suppressing IFITM3 Protein Expression. <a href=\"https://doi.org/10.1128/JVI.00126-14\">10.1128/JVI.00126-14</a>.</div>"
            ],
            "text/plain": [
              "<IPython.core.display.HTML object>"
            ]
          },
          "metadata": {
            "tags": []
          }
        },
        {
          "output_type": "display_data",
          "data": {
            "text/html": [
              "<div style=\"font-family: Times New Roman; font-size: 18px; padding-bottom:10px\">8 20953 (7.46) -- Jennifer A. Head et al. Functional Analysis of Rift Valley Fever Virus NSs Encoding a Partial Truncation. <a href=\"https://doi.org/10.1371/journal.pone.0045730\">10.1371/journal.pone.0045730</a>.</div>"
            ],
            "text/plain": [
              "<IPython.core.display.HTML object>"
            ]
          },
          "metadata": {
            "tags": []
          }
        },
        {
          "output_type": "display_data",
          "data": {
            "text/html": [
              "<div style=\"font-family: Times New Roman; font-size: 18px; padding-bottom:10px\">9 31448 (7.41) -- Tsuyoshi Hayashi et al. Influenza A Virus Protein PA-X Contributes to Viral Growth and Suppression of the Host Antiviral and Immune Responses. <a href=\"https://doi.org/10.1128/JVI.00319-15\">10.1128/JVI.00319-15</a>.</div>"
            ],
            "text/plain": [
              "<IPython.core.display.HTML object>"
            ]
          },
          "metadata": {
            "tags": []
          }
        },
        {
          "output_type": "display_data",
          "data": {
            "text/html": [
              "<div style=\"font-family: Times New Roman; font-size: 18px; padding-bottom:10px\">10 30709 (7.29) -- Joeri Kint et al. Infectious Bronchitis Coronavirus Limits Interferon Production by Inducing a Host Shutoff That Requires Accessory Protein 5b. <a href=\"https://doi.org/10.1128/JVI.00627-16\">10.1128/JVI.00627-16</a>.</div>"
            ],
            "text/plain": [
              "<IPython.core.display.HTML object>"
            ]
          },
          "metadata": {
            "tags": []
          }
        }
      ]
    },
    {
      "cell_type": "markdown",
      "metadata": {
        "id": "iiXaE-TDH7uc",
        "colab_type": "text"
      },
      "source": [
        "From the hits array, use `.lucene_document` to access the underlying indexed Lucene `Document`, and from there, call `.get(field)` to fetch specific fields, like \"title\", \"doc\", etc.\n",
        "The complete list of available fields is [here](https://github.com/castorini/anserini/blob/master/src/main/java/io/anserini/index/generator/CovidGenerator.java#L46)."
      ]
    },
    {
      "cell_type": "markdown",
      "metadata": {
        "id": "EBct_zb8Lyvp",
        "colab_type": "text"
      },
      "source": [
        "For hit #1, we don't have the full text, but we can access available information via `.raw`."
      ]
    },
    {
      "cell_type": "code",
      "metadata": {
        "id": "WAYzpshzL7St",
        "colab_type": "code",
        "outputId": "02af2348-4b71-4bed-d2bc-47d30640f5b1",
        "colab": {
          "base_uri": "https://localhost:8080/",
          "height": 326
        }
      },
      "source": [
        "hit1_json = json.loads(hits[0].raw)\n",
        "print(json.dumps(hit1_json, indent=4))"
      ],
      "execution_count": 114,
      "outputs": [
        {
          "output_type": "stream",
          "text": [
            "{\n",
            "    \"abstract\": \"The severe acute respiratory syndrome coronavirus (SARS-CoV) nsp1 protein has unique biological functions that have not been described in the viral proteins of any RNA viruses; expressed SARS-CoV nsp1 protein has been found to suppress host gene expression by promoting host mRNA degradation and inhibiting translation. We generated an nsp1 mutant (nsp1-mt) that neither promoted host mRNA degradation nor suppressed host protein synthesis in expressing cells. Both a SARS-CoV mutant virus, encoding the nsp1-mt protein (SARS-CoV-mt), and a wild-type virus (SARS-CoV-WT) replicated efficiently and exhibited similar one-step growth kinetics in susceptible cells. Both viruses accumulated similar amounts of virus-specific mRNAs and nsp1 protein in infected cells, whereas the amounts of endogenous host mRNAs were clearly higher in SARS-CoV-mt-infected cells than in SARS-CoV-WT-infected cells, in both the presence and absence of actinomycin D. Further, SARS-CoV-WT replication strongly inhibited host protein synthesis, whereas host protein synthesis inhibition in SARS-CoV-mt-infected cells was not as efficient as in SARS-CoV-WT-infected cells. These data revealed that nsp1 indeed promoted host mRNA degradation and contributed to host protein translation inhibition in infected cells. Notably, SARS-CoV-mt infection, but not SARS-CoV-WT infection, induced high levels of beta interferon (IFN) mRNA accumulation and high titers of type I IFN production. These data demonstrated that SARS-CoV nsp1 suppressed host innate immune functions, including type I IFN expression, in infected cells and suggested that SARS-CoV nsp1 most probably plays a critical role in SARS-CoV virulence.\",\n",
            "    \"authors\": \"Narayanan, Krishna; Huang, Cheng; Lokugamage, Kumari; Kamitani, Wataru; Ikegami, Tetsuro; Tseng, Chien-Te K.; Makino, Shinji\",\n",
            "    \"doi\": \"10.1128/JVI.02472-07\",\n",
            "    \"full_text_file\": \"\",\n",
            "    \"has_full_text\": \"False\",\n",
            "    \"journal\": \"\",\n",
            "    \"license\": \"unk\",\n",
            "    \"Microsoft Academic Paper ID\": \"\",\n",
            "    \"pmcid\": \"PMC2293030\",\n",
            "    \"publish_time\": \"\",\n",
            "    \"pubmed_id\": \"\",\n",
            "    \"sha\": \"\",\n",
            "    \"source_x\": \"PMC\",\n",
            "    \"title\": \"Severe Acute Respiratory Syndrome Coronavirus nsp1 Suppresses Host Gene Expression, Including That of Type I Interferon, in Infected Cells\",\n",
            "    \"WHO #Covidence\": \"\"\n",
            "}\n"
          ],
          "name": "stdout"
        }
      ]
    },
    {
      "cell_type": "markdown",
      "metadata": {
        "id": "xw6EjwPgPB_b",
        "colab_type": "text"
      },
      "source": [
        "For hit #8, we have the full text, which we can also fetch via `.raw`: As an example, let's look at to which section the second paragraph belongs."
      ]
    },
    {
      "cell_type": "code",
      "metadata": {
        "id": "lGLZhQgANy3I",
        "colab_type": "code",
        "outputId": "dd1ec265-eda6-41b1-905f-2cabc96cfa95",
        "colab": {
          "base_uri": "https://localhost:8080/",
          "height": 34
        }
      },
      "source": [
        "hit8_json = json.loads(hits[7].raw)\n",
        "print(hit8_json['body_text'][1]['section'])"
      ],
      "execution_count": 115,
      "outputs": [
        {
          "output_type": "stream",
          "text": [
            "Introduction\n"
          ],
          "name": "stdout"
        }
      ]
    },
    {
      "cell_type": "markdown",
      "metadata": {
        "id": "7Hbca-fTUDC-",
        "colab_type": "text"
      },
      "source": [
        "Let's extract contextualized vectors of queries and abstracts from SciBERT for highlighting relevant paragraphs."
      ]
    },
    {
      "cell_type": "markdown",
      "metadata": {
        "id": "AWUg03EjXF-1",
        "colab_type": "text"
      },
      "source": [
        "First, extract the contextualized vectors of the query above:\n",
        "\n",
        "$$q_1, \\ldots, q_T = \\text{SciBERT}(\\text{query})$$"
      ]
    },
    {
      "cell_type": "code",
      "metadata": {
        "id": "hWmb-SWKTcu1",
        "colab_type": "code",
        "colab": {}
      },
      "source": [
        "def extract_scibert(text, tokenizer, model):\n",
        "  # we consider only the first 512 tokens (for now)\n",
        "  text = text[:512]\n",
        "\n",
        "  text_ids = torch.tensor([tokenizer.encode(text, add_special_tokens=True)])\n",
        "  text_words = tokenizer.convert_ids_to_tokens(text_ids[0])[1:-1]\n",
        "\n",
        "  with torch.no_grad():\n",
        "    state = model(text_ids)[0]\n",
        "    state = state[:, 1:-1, :]\n",
        "\n",
        "  return text_ids, text_words, state[0]"
      ],
      "execution_count": 0,
      "outputs": []
    },
    {
      "cell_type": "code",
      "metadata": {
        "id": "e9gFCKohUXNP",
        "colab_type": "code",
        "colab": {}
      },
      "source": [
        "query_ids, query_words, query_state = extract_scibert(query, tokenizer, model)"
      ],
      "execution_count": 0,
      "outputs": []
    },
    {
      "cell_type": "markdown",
      "metadata": {
        "id": "IcAVwQdCXE_P",
        "colab_type": "text"
      },
      "source": [
        "Second, let's extract contextualized vectors of all the paragraphs from the hit #3:\n",
        "\n",
        "$$p_1^k, \\ldots, p_{T_k}^k = \\text{SciBERT}(\\text{paragraph}^k)$$"
      ]
    },
    {
      "cell_type": "code",
      "metadata": {
        "id": "d-NG7C1CUbDg",
        "colab_type": "code",
        "colab": {
          "base_uri": "https://localhost:8080/",
          "height": 34
        },
        "outputId": "9d5db119-9a68-4de0-9ad0-8448ec93768f"
      },
      "source": [
        "ii = 5\n",
        "\n",
        "doc_json = json.loads(hits[ii].raw)\n",
        "\n",
        "paragraph_states = []\n",
        "for pid in tqdm(range(len(doc_json['body_text']))):\n",
        "  paragraph_states.append(extract_scibert(doc_json['body_text'][pid]['text'], tokenizer, model))"
      ],
      "execution_count": 128,
      "outputs": [
        {
          "output_type": "stream",
          "text": [
            "100%|██████████| 102/102 [00:34<00:00,  2.99it/s]\n"
          ],
          "name": "stderr"
        }
      ]
    },
    {
      "cell_type": "markdown",
      "metadata": {
        "id": "p_bUm3TOXWdY",
        "colab_type": "text"
      },
      "source": [
        "We then compute the cosine similarity matrix between the query and each paragraph:\n",
        "\n",
        "$$A^k = [a^k_{ij}] \\in \\mathbb{R}^{|\\text{query}| \\times |\\text{paragraph}^k|},$$\n",
        "\n",
        "where\n",
        "\n",
        "$$a^k_{ij} = \\frac{q_i^\\top p_j^k}{\\| q_i \\| \\| p_j^k \\|}$$\n"
      ]
    },
    {
      "cell_type": "code",
      "metadata": {
        "id": "m6oZIW3OUbLv",
        "colab_type": "code",
        "colab": {}
      },
      "source": [
        "def cross_match(state1, state2):\n",
        "  state1 = state1 / torch.sqrt((state1 ** 2).sum(1, keepdims=True))\n",
        "  state2 = state2 / torch.sqrt((state2 ** 2).sum(1, keepdims=True))\n",
        "\n",
        "  sim = (state1.unsqueeze(1) * state2.unsqueeze(0)).sum(-1)\n",
        "\n",
        "  return sim"
      ],
      "execution_count": 0,
      "outputs": []
    },
    {
      "cell_type": "code",
      "metadata": {
        "id": "MK8Na3sGUbSG",
        "colab_type": "code",
        "colab": {
          "base_uri": "https://localhost:8080/",
          "height": 34
        },
        "outputId": "b4cee510-a39d-4a44-f207-529a3f611673"
      },
      "source": [
        "sim_matrices = []\n",
        "\n",
        "for pid in tqdm(range(len(doc_json['body_text']))):\n",
        "  sim_matrices.append(cross_match(query_state, paragraph_states[pid][-1]))"
      ],
      "execution_count": 130,
      "outputs": [
        {
          "output_type": "stream",
          "text": [
            "100%|██████████| 102/102 [00:00<00:00, 584.45it/s]\n"
          ],
          "name": "stderr"
        }
      ]
    },
    {
      "cell_type": "markdown",
      "metadata": {
        "id": "oRKhDGzdXYr4",
        "colab_type": "text"
      },
      "source": [
        "Let's retrieve the most relevant paragraphs first, where define the top-$M$ most relevant paragraphs as \n",
        "\n",
        "$$\\arg\\text{top-$M$}_{k=1}^K \\max_{i=1,\\ldots,|\\text{query}|} \\max_{j=1,\\ldots, |\\text{paragraph}^k|} A_{ij}^k$$\n",
        "\n",
        "that is, a paragraph with the highly matched words to the query words is considered relevant."
      ]
    },
    {
      "cell_type": "code",
      "metadata": {
        "id": "-3hJ1dAAUSWQ",
        "colab_type": "code",
        "colab": {}
      },
      "source": [
        "paragraph_relevance = [torch.max(sim).item() for sim in sim_matrices]\n",
        "rel_index = numpy.argsort(paragraph_relevance)[-5:][::-1]"
      ],
      "execution_count": 0,
      "outputs": []
    },
    {
      "cell_type": "code",
      "metadata": {
        "id": "bQhkuCc1Xp8s",
        "colab_type": "code",
        "colab": {
          "base_uri": "https://localhost:8080/",
          "height": 537
        },
        "outputId": "43f485ee-2e33-433a-ed71-e1c52fa715f6"
      },
      "source": [
        "display(HTML('<div style=\"font-family: Times New Roman; font-size: 20px; padding-bottom:12px\"><b>Query</b>: '+query+'</div>'))\n",
        "\n",
        "display(HTML('<div style=\"font-family: Times New Roman; font-size: 20px; padding-bottom:12px\"><b>Document</b>: '+\n",
        "             F'{hits[i].lucene_document.get(\"authors\")} et al. ' +\n",
        "             F'{hits[i].lucene_document.get(\"title\")}. ' + \n",
        "             F'<a href=\"https://doi.org/{hits[i].lucene_document.get(\"doi\")}\">{hits[i].lucene_document.get(\"doi\")}</a>.' +\n",
        "             '</div>'))\n",
        "\n",
        "for ri in numpy.sort(rel_index):\n",
        "  display(HTML('<div style=\"font-family: Times New Roman; font-size: 18px; padding-bottom:10px; margin-left: 15px\">' + \n",
        "               F'<b>{doc_json[\"body_text\"][ri][\"section\"]}</b> -- ' +\n",
        "               F'{\" \".join(paragraph_states[ri][1]).replace(\" ##\",\"\")}' + ' ... </div>'))"
      ],
      "execution_count": 134,
      "outputs": [
        {
          "output_type": "display_data",
          "data": {
            "text/html": [
              "<div style=\"font-family: Times New Roman; font-size: 20px; padding-bottom:12px\"><b>Query</b>: integration degradation synthesis host immune</div>"
            ],
            "text/plain": [
              "<IPython.core.display.HTML object>"
            ]
          },
          "metadata": {
            "tags": []
          }
        },
        {
          "output_type": "display_data",
          "data": {
            "text/html": [
              "<div style=\"font-family: Times New Roman; font-size: 20px; padding-bottom:12px\"><b>Document</b>: Joeri Kint et al. Infectious Bronchitis Coronavirus Limits Interferon Production by Inducing a Host Shutoff That Requires Accessory Protein 5b. <a href=\"https://doi.org/10.1128/JVI.00627-16\">10.1128/JVI.00627-16</a>.</div>"
            ],
            "text/plain": [
              "<IPython.core.display.HTML object>"
            ]
          },
          "metadata": {
            "tags": []
          }
        },
        {
          "output_type": "display_data",
          "data": {
            "text/html": [
              "<div style=\"font-family: Times New Roman; font-size: 18px; padding-bottom:10px; margin-left: 15px\"><b>Abstract</b> -- relatively small genomes and high replication rates allow viruses and bacteria to accumulate mutations . this continuously presents the host immune system with new challenges . on the other side of the trenches , an increasingly welladjusted host immune response , shaped by coevolutionary history , makes a pathogen ' s life a rather complicated endeavor . it is , therefore , no surprise that pathogens either escape detection or modulate the host immune response , often by redirecting normal cellular pathways to their ... </div>"
            ],
            "text/plain": [
              "<IPython.core.display.HTML object>"
            ]
          },
          "metadata": {
            "tags": []
          }
        },
        {
          "output_type": "display_data",
          "data": {
            "text/html": [
              "<div style=\"font-family: Times New Roman; font-size: 18px; padding-bottom:10px; margin-left: 15px\"><b>Ubiquitin-Proteasome System</b> -- all cellular proteins , regardless of their half - life , are subject to turnover . the main pathway for degradation of short - lived proteins in the cytoplasm of eukaryotic cells is the ub - proteasome system ( hershko and ciechanover , 1992 ) . since the discovery of ub and ub - dependent proteolysis in the late 1970s , it has become increasingly clear that the ub - proteasome system is pivotal to numerous cellular processes : cell cycle control , transcriptional regulation , signal transduction , antigen presentation and ind ... </div>"
            ],
            "text/plain": [
              "<IPython.core.display.HTML object>"
            ]
          },
          "metadata": {
            "tags": []
          }
        },
        {
          "output_type": "display_data",
          "data": {
            "text/html": [
              "<div style=\"font-family: Times New Roman; font-size: 18px; padding-bottom:10px; margin-left: 15px\"><b>Driving Dislocation and the Ub-Binding Route to the Proteasome</b> -- a cytosolic complex containing the aaa atpase cdc48p ( yeast ) [ valosin - containing protein ( vcp ) / p97 ( in mammals ) ] and its cofactors nuclear protein localization 4 ( npl4p ) and ubiquitin - fusion degradation 1 ( ufd1p ) , was recently shown to participate in er degradation ( lord et al . , 2002 ; romisch , 2005 ; ye et al . , 2001 ) . cdc48p / p97 is an essential protein of the aaa atpase ( atpases associated with various cellular activities ) family , conserved from archaea to mammals , whose functions include mitotic spindle di ... </div>"
            ],
            "text/plain": [
              "<IPython.core.display.HTML object>"
            ]
          },
          "metadata": {
            "tags": []
          }
        },
        {
          "output_type": "display_data",
          "data": {
            "text/html": [
              "<div style=\"font-family: Times New Roman; font-size: 18px; padding-bottom:10px; margin-left: 15px\"><b>Pathogen Manipulation of the Ubiquitin-Proteasome System</b> -- it is not our intention to make the following a comprehensive list . we rather propose to provide an overview of the possibilities of manipulation of this system that have been described for pathogens ( fig . 9 ) . we discuss in more detail pathogen - encoded modulators of the ubiquitin - proteasome system , ranging from pathogen - encoded proteolysis - resistant peptides , to ubiquitin ligases and dub , with obvious implications for the viral or bacterial life cycle or with consequences for the control of host immune res ... </div>"
            ],
            "text/plain": [
              "<IPython.core.display.HTML object>"
            ]
          },
          "metadata": {
            "tags": []
          }
        },
        {
          "output_type": "display_data",
          "data": {
            "text/html": [
              "<div style=\"font-family: Times New Roman; font-size: 18px; padding-bottom:10px; margin-left: 15px\"><b>Conclusions and Future Directions</b> -- we have elaborated on several examples of how the host immune system can be manipulated by a pathogen - encoded e3 or pathogen hijacking of a host e3 . similarly - and although the sample pool is rather small at the moment - there is no reason to believe that encoding their own dubs and / or hijacking of host dubs has not ' ' occurred ' ' to pathogens . an attractive possibility is that some of these activities are aimed at manipulating the host immune system . possible targets would include pathways involved in ' ' houseke ... </div>"
            ],
            "text/plain": [
              "<IPython.core.display.HTML object>"
            ]
          },
          "metadata": {
            "tags": []
          }
        }
      ]
    },
    {
      "cell_type": "markdown",
      "metadata": {
        "id": "d3H0XQ8IZfAN",
        "colab_type": "text"
      },
      "source": [
        "We want to look at more details by highlighting relevant phrases in each paragraph, where we define relevant phrases for each paragraph as\n",
        "\n",
        "$$\\arg\\text{top-$M$}_{j=1,\\ldots, |\\text{paragraph}^k|} \\max_{i=1,\\ldots,|\\text{query}|} A_{ij}^k$$\n",
        "\n",
        "that is, any word that had a high similarity to each of the query words is considered relevant. given these words, we highlight a window of 10 surrounding each of them."
      ]
    },
    {
      "cell_type": "code",
      "metadata": {
        "id": "ZMxkQ0_PZiOQ",
        "colab_type": "code",
        "colab": {
          "base_uri": "https://localhost:8080/",
          "height": 647
        },
        "outputId": "784d6f4d-6889-4b08-de67-fb089becd6f8"
      },
      "source": [
        "display(HTML('<div style=\"font-family: Times New Roman; font-size: 20px; padding-bottom:12px\"><b>Query</b>: '+query+'</div>'))\n",
        "\n",
        "display(HTML('<div style=\"font-family: Times New Roman; font-size: 20px; padding-bottom:12px\"><b>Document</b>: '+\n",
        "             F'{hits[i].lucene_document.get(\"authors\")} et al. ' +\n",
        "             F'{hits[i].lucene_document.get(\"title\")}. ' + \n",
        "             F'<a href=\"https://doi.org/{hits[i].lucene_document.get(\"doi\")}\">{hits[i].lucene_document.get(\"doi\")}</a>.' +\n",
        "             '</div>'))\n",
        "\n",
        "for ri in numpy.sort(rel_index):\n",
        "  sim = sim_matrices[ri].data.numpy()\n",
        "  rel_words = numpy.sort(numpy.argsort(sim.max(0))[-5:][::-1])\n",
        "\n",
        "  ptext = paragraph_states[ri][1]\n",
        "\n",
        "  para = \"\"\n",
        "  prev_idx = 0\n",
        "  for jj in rel_words:\n",
        "    para = para + \" \"\n",
        "    para = para + \" \".join(ptext[prev_idx:jj-5])\n",
        "    para = para + \" <font color='red'>\"\n",
        "    para = para + \" \".join(ptext[jj-5:jj+5])\n",
        "    para = para + \"</font> \"\n",
        "    prev_idx = jj+5\n",
        "\n",
        "  display(HTML('<div style=\"font-family: Times New Roman; font-size: 18px; padding-bottom:10px; margin-left: 15px\">' + \n",
        "               F'<b>{doc_json[\"body_text\"][ri][\"section\"]}</b> -- ' +\n",
        "               F'{para.replace(\" ##\",\"\")}' + ' ... </div>'))"
      ],
      "execution_count": 135,
      "outputs": [
        {
          "output_type": "display_data",
          "data": {
            "text/html": [
              "<div style=\"font-family: Times New Roman; font-size: 20px; padding-bottom:12px\"><b>Query</b>: integration degradation synthesis host immune</div>"
            ],
            "text/plain": [
              "<IPython.core.display.HTML object>"
            ]
          },
          "metadata": {
            "tags": []
          }
        },
        {
          "output_type": "display_data",
          "data": {
            "text/html": [
              "<div style=\"font-family: Times New Roman; font-size: 20px; padding-bottom:12px\"><b>Document</b>: Joeri Kint et al. Infectious Bronchitis Coronavirus Limits Interferon Production by Inducing a Host Shutoff That Requires Accessory Protein 5b. <a href=\"https://doi.org/10.1128/JVI.00627-16\">10.1128/JVI.00627-16</a>.</div>"
            ],
            "text/plain": [
              "<IPython.core.display.HTML object>"
            ]
          },
          "metadata": {
            "tags": []
          }
        },
        {
          "output_type": "display_data",
          "data": {
            "text/html": [
              "<div style=\"font-family: Times New Roman; font-size: 18px; padding-bottom:10px; margin-left: 15px\"><b>Abstract</b> --  relatively small genomes and high replication rates allow viruses and bacteria to accumulate mutations <font color='red'>. this continuously presents the host immune system with new</font>   <font color='red'>this continuously presents the host immune system with new challenges</font>  . on the other side of the trenches , <font color='red'>an increasingly welladjusted host immune response , shaped by</font>  coevolutionary history , makes a pathogen ' s life a rather complicated endeavor . it is , therefore , no surprise that pathogens either <font color='red'>escape detection or modulate the host immune response , often</font>   <font color='red'>detection or modulate the host immune response , often by</font>  ... </div>"
            ],
            "text/plain": [
              "<IPython.core.display.HTML object>"
            ]
          },
          "metadata": {
            "tags": []
          }
        },
        {
          "output_type": "display_data",
          "data": {
            "text/html": [
              "<div style=\"font-family: Times New Roman; font-size: 18px; padding-bottom:10px; margin-left: 15px\"><b>Ubiquitin-Proteasome System</b> --  all cellular proteins , regardless of their half - <font color='red'>life , are subject to turnover . the main pathway</font>   <font color='red'>are subject to turnover . the main pathway for degradation</font>   <font color='red'>. the main pathway for degradation of short - lived</font>  proteins in the cytoplasm of eukaryotic cells is the ub - proteasome system ( hershko and ciechanover , 1992 ) . since the discovery of <font color='red'>ub and ub - dependent proteolysis in the late 1970</font> s , it has become increasingly clear that the ub - proteasome system is pivotal to numerous cellular processes : cell cycle control , transcriptional regulation , signal <font color='red'>transduction , antigen presentation and ind</font>  ... </div>"
            ],
            "text/plain": [
              "<IPython.core.display.HTML object>"
            ]
          },
          "metadata": {
            "tags": []
          }
        },
        {
          "output_type": "display_data",
          "data": {
            "text/html": [
              "<div style=\"font-family: Times New Roman; font-size: 18px; padding-bottom:10px; margin-left: 15px\"><b>Driving Dislocation and the Ub-Binding Route to the Proteasome</b> --  a cytosolic complex containing the aaa atpase cdc48p ( yeast ) [ valosin - containing protein ( vcp ) / p97 ( in mammals ) ] and its cofactors nuclear protein localization 4 ( npl4p ) and ubiquitin - fusion degradation 1 ( ufd1p ) , was recently shown to participate in er degradation ( lord et al . , 2002 ; romisch , 2005 ; ye et al . , 2001 ) . cdc48p / p97 is an essential protein of the aaa atpase ( atpases associated with various cellular activities ) family , conserved from archaea to mammals , whose <font color='red'></font>  aaa atpase cdc48p ( yeast ) [ valosin - containing protein ( vcp ) / p97 ( in mammals ) ] and its cofactors nuclear protein localization 4 ( npl4p <font color='red'>) and ubiquitin - fusion degradation 1 ( uf</font> d1p ) , was <font color='red'>recently shown to participate in er degradation ( lord</font>   <font color='red'>shown to participate in er degradation ( lord et</font>  al . , 2002 ; romisch , 2005 ; ye et al . , 2001 ) . cdc48p / p97 is an essential protein of the aaa atpase ( atpases associated with various cellular activities ) family , conserved from archaea to mammals , <font color='red'>whose functions include mitotic spindle di</font>  ... </div>"
            ],
            "text/plain": [
              "<IPython.core.display.HTML object>"
            ]
          },
          "metadata": {
            "tags": []
          }
        },
        {
          "output_type": "display_data",
          "data": {
            "text/html": [
              "<div style=\"font-family: Times New Roman; font-size: 18px; padding-bottom:10px; margin-left: 15px\"><b>Pathogen Manipulation of the Ubiquitin-Proteasome System</b> --  it is not our intention to make the following a comprehensive list . we rather propose to provide an overview of the <font color='red'>possibilities of manipulation of this system that have been described</font>  for pathogens ( fig . 9 ) . we discuss in more detail pathogen - encoded modulators of the ubiquitin - proteasome system , <font color='red'>ranging from pathogen - encoded proteolysis - resistant peptides ,</font>  to ubiquitin ligases and dub , with obvious implications for the viral or bacterial life cycle or with <font color='red'>consequences for the control of host immune res</font>   <font color='red'>for the control of host immune res</font>   <font color='red'>the control of host immune res</font>  ... </div>"
            ],
            "text/plain": [
              "<IPython.core.display.HTML object>"
            ]
          },
          "metadata": {
            "tags": []
          }
        },
        {
          "output_type": "display_data",
          "data": {
            "text/html": [
              "<div style=\"font-family: Times New Roman; font-size: 18px; padding-bottom:10px; margin-left: 15px\"><b>Conclusions and Future Directions</b> --  we have elaborated on several <font color='red'>examples of how the host immune system can be manipulated</font>  by a pathogen - encoded e3 or pathogen hijacking of <font color='red'>a host e3 . similarly - and although the</font>  sample pool is rather small at the moment - there is no reason to believe that encoding their own dubs and / or hijacking of host dubs has not ' ' occurred ' ' to pathogens . an attractive possibility is that some of these activities <font color='red'>are aimed at manipulating the host immune system . possible</font>   <font color='red'>aimed at manipulating the host immune system . possible targets</font>   <font color='red'>at manipulating the host immune system . possible targets would</font>  ... </div>"
            ],
            "text/plain": [
              "<IPython.core.display.HTML object>"
            ]
          },
          "metadata": {
            "tags": []
          }
        }
      ]
    }
  ]
}